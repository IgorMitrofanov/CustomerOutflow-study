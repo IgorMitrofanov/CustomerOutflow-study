{
 "cells": [
  {
   "cell_type": "markdown",
   "id": "d8730c8c",
   "metadata": {},
   "source": [
    "# Прогнозирование оттока клиентов"
   ]
  },
  {
   "cell_type": "markdown",
   "id": "3c87990a",
   "metadata": {},
   "source": [
    "## Описание проекта"
   ]
  },
  {
   "cell_type": "markdown",
   "id": "299fa114",
   "metadata": {},
   "source": [
    "Оператор связи «Ниединогоразрыва.ком» хочет научиться прогнозировать отток клиентов. Если выяснится, что пользователь планирует уйти, ему будут предложены промокоды и специальные условия. Команда оператора собрала персональные данные о некоторых клиентах, информацию об их тарифах и договорах."
   ]
  },
  {
   "cell_type": "markdown",
   "id": "f590fdbe",
   "metadata": {},
   "source": [
    "**Описание услуг**\n",
    "\n",
    "Оператор предоставляет два основных типа услуг: \n",
    "\n",
    "1. Стационарную телефонную связь. Возможно подключение телефонного аппарата к нескольким линиям одновременно.\n",
    "2. Интернет. Подключение может быть двух типов: через телефонную линию (`DSL`, от англ. *digital subscriber line*, «цифровая абонентская линия») или оптоволоконный кабель (`Fiber optic`).  \n",
    "\n",
    "\n",
    "Также доступны такие услуги:\n",
    "- Интернет-безопасность: антивирус (`DeviceProtection`) и блокировка небезопасных сайтов (`OnlineSecurity`);\n",
    "- Выделенная линия технической поддержки (`TechSupport`);\n",
    "- Облачное хранилище файлов для резервного копирования данных (`OnlineBackup`);\n",
    "- Стриминговое телевидение (`StreamingTV`) и каталог фильмов (`StreamingMovies`).\n",
    "\n",
    "\n",
    "За услуги клиенты могут платить каждый месяц или заключить договор на 1–2 года. Доступны различные способы расчёта и возможность получения электронного чека.\n",
    "\n",
    "**Описание данных**\n",
    "\n",
    "\n",
    "Данные состоят из файлов, полученных из разных источников:\n",
    "- `contract.csv` — информация о договоре;\n",
    "- `personal.csv` — персональные данные клиента;\n",
    "- `internet.csv` — информация об интернет-услугах;\n",
    "- `phone.csv` — информация об услугах телефонии.\n",
    "\n",
    "**Описание полей данных**\n",
    "\n",
    "\n",
    "- `BeginDate` – дата начала пользования услугами.\n",
    "- `EndDate` – дата окончания пользования услугами.\n",
    "- `Type` – тип оплаты: ежемесячный, годовой и тд.\n",
    "- `PaperlessBilling` – безналичный расчет.\n",
    "- `PaymentMethod` – способ оплаты.\n",
    "- `MonthlyCharges` – ежемесячные траты на услуги.\n",
    "- `TotalCharges` – всего потрачено денег на услуги.\n",
    "- `Dependents` – наличие иждивенцев.\n",
    "- `Senior Citizen` – наличие пенсионного статуса по возрасту.\n",
    "- `Partner` – наличие супруга(и).\n",
    "- `MultipleLines` – наличие возможности ведения параллельных линий во время звонка.\n",
    "\n",
    "\n",
    "Во всех файлах столбец `customerID` содержит код клиента.\n",
    "\n",
    "\n",
    "Информация о договорах актуальна на 1 февраля 2020."
   ]
  },
  {
   "cell_type": "markdown",
   "id": "7b5f8a89",
   "metadata": {},
   "source": [
    "## План работы"
   ]
  },
  {
   "cell_type": "markdown",
   "id": "f56bb175",
   "metadata": {},
   "source": [
    "\n",
    "1. Загрузить, просмотреть, предварительно изучить полученные данные. Оставить комментарии, сделать вывод.\n",
    "2. Провести предобработку и исследовательский анализ данных. Выделить/создать целевой признак. Оставить комментарии, сделать вывод.\n",
    "3. Подготовить признаки. Добавить новые признаки. Разделить итоговый датасет на тренировочную и тестовую выборки. Оставить комментарии, сделать вывод.\n",
    "4. Определить модели, подходящие для исследования, провести подбор гиперпараметров, выделить важные фичи. Оставить комментарии, сделать вывод.\n",
    "5. Сравнить модели и оценить их эффективность на тестовой выборке. Оставить комментарии, сделать вывод.\n",
    "6. Провести анализ важности факторов лучшей модели.\n",
    "7. Сделать общий вывод.\n"
   ]
  },
  {
   "cell_type": "markdown",
   "id": "0192b725",
   "metadata": {},
   "source": [
    "## Загрузка, просмотр, изучение данных"
   ]
  },
  {
   "cell_type": "markdown",
   "id": "8e2a034d",
   "metadata": {},
   "source": [
    "Импорт библиотек:"
   ]
  },
  {
   "cell_type": "code",
   "execution_count": 93,
   "id": "7b44e4a8",
   "metadata": {},
   "outputs": [],
   "source": [
    "import pandas as pd\n",
    "import seaborn as sns\n",
    "import matplotlib.pyplot as plt\n",
    "import numpy as np\n",
    "from statsmodels.stats.outliers_influence import variance_inflation_factor\n",
    "from sklearn.utils import shuffle\n",
    "from sklearn.linear_model import LogisticRegression\n",
    "from sklearn.ensemble import RandomForestClassifier\n",
    "from catboost import CatBoostClassifier, Pool\n",
    "from tqdm import tqdm\n",
    "from sklearn.model_selection import train_test_split, cross_val_score, GridSearchCV\n",
    "from sklearn.metrics import roc_auc_score, f1_score, confusion_matrix, make_scorer, roc_curve"
   ]
  },
  {
   "cell_type": "markdown",
   "id": "5689d0dc",
   "metadata": {},
   "source": [
    "Запишем данные в соответствующие датафреймы:"
   ]
  },
  {
   "cell_type": "code",
   "execution_count": 2,
   "id": "1065e119",
   "metadata": {},
   "outputs": [],
   "source": [
    "df_contract = pd.read_csv(r'D:\\final_provider\\contract.csv') \n",
    "df_internet = pd.read_csv(r'D:\\final_provider\\internet.csv')\n",
    "df_personal = pd.read_csv(r'D:\\final_provider\\personal.csv') \n",
    "df_phone = pd.read_csv(r'D:\\final_provider\\phone.csv') "
   ]
  },
  {
   "cell_type": "markdown",
   "id": "ad33a063",
   "metadata": {},
   "source": [
    "Выполним первый взгляд на данные в каждом датафрейме по отдельности."
   ]
  },
  {
   "cell_type": "markdown",
   "id": "18ec1eeb",
   "metadata": {},
   "source": [
    "### Датафрейм с информацией о договорах (df_contract)"
   ]
  },
  {
   "cell_type": "markdown",
   "id": "b0f9b455",
   "metadata": {},
   "source": [
    "Выведем первые 5 строк:"
   ]
  },
  {
   "cell_type": "code",
   "execution_count": 3,
   "id": "e057850c",
   "metadata": {},
   "outputs": [
    {
     "data": {
      "text/html": [
       "<div>\n",
       "<style scoped>\n",
       "    .dataframe tbody tr th:only-of-type {\n",
       "        vertical-align: middle;\n",
       "    }\n",
       "\n",
       "    .dataframe tbody tr th {\n",
       "        vertical-align: top;\n",
       "    }\n",
       "\n",
       "    .dataframe thead th {\n",
       "        text-align: right;\n",
       "    }\n",
       "</style>\n",
       "<table border=\"1\" class=\"dataframe\">\n",
       "  <thead>\n",
       "    <tr style=\"text-align: right;\">\n",
       "      <th></th>\n",
       "      <th>customerID</th>\n",
       "      <th>BeginDate</th>\n",
       "      <th>EndDate</th>\n",
       "      <th>Type</th>\n",
       "      <th>PaperlessBilling</th>\n",
       "      <th>PaymentMethod</th>\n",
       "      <th>MonthlyCharges</th>\n",
       "      <th>TotalCharges</th>\n",
       "    </tr>\n",
       "  </thead>\n",
       "  <tbody>\n",
       "    <tr>\n",
       "      <th>0</th>\n",
       "      <td>7590-VHVEG</td>\n",
       "      <td>2020-01-01</td>\n",
       "      <td>No</td>\n",
       "      <td>Month-to-month</td>\n",
       "      <td>Yes</td>\n",
       "      <td>Electronic check</td>\n",
       "      <td>29.85</td>\n",
       "      <td>29.85</td>\n",
       "    </tr>\n",
       "    <tr>\n",
       "      <th>1</th>\n",
       "      <td>5575-GNVDE</td>\n",
       "      <td>2017-04-01</td>\n",
       "      <td>No</td>\n",
       "      <td>One year</td>\n",
       "      <td>No</td>\n",
       "      <td>Mailed check</td>\n",
       "      <td>56.95</td>\n",
       "      <td>1889.5</td>\n",
       "    </tr>\n",
       "    <tr>\n",
       "      <th>2</th>\n",
       "      <td>3668-QPYBK</td>\n",
       "      <td>2019-10-01</td>\n",
       "      <td>2019-12-01 00:00:00</td>\n",
       "      <td>Month-to-month</td>\n",
       "      <td>Yes</td>\n",
       "      <td>Mailed check</td>\n",
       "      <td>53.85</td>\n",
       "      <td>108.15</td>\n",
       "    </tr>\n",
       "    <tr>\n",
       "      <th>3</th>\n",
       "      <td>7795-CFOCW</td>\n",
       "      <td>2016-05-01</td>\n",
       "      <td>No</td>\n",
       "      <td>One year</td>\n",
       "      <td>No</td>\n",
       "      <td>Bank transfer (automatic)</td>\n",
       "      <td>42.30</td>\n",
       "      <td>1840.75</td>\n",
       "    </tr>\n",
       "    <tr>\n",
       "      <th>4</th>\n",
       "      <td>9237-HQITU</td>\n",
       "      <td>2019-09-01</td>\n",
       "      <td>2019-11-01 00:00:00</td>\n",
       "      <td>Month-to-month</td>\n",
       "      <td>Yes</td>\n",
       "      <td>Electronic check</td>\n",
       "      <td>70.70</td>\n",
       "      <td>151.65</td>\n",
       "    </tr>\n",
       "  </tbody>\n",
       "</table>\n",
       "</div>"
      ],
      "text/plain": [
       "   customerID   BeginDate              EndDate            Type  \\\n",
       "0  7590-VHVEG  2020-01-01                   No  Month-to-month   \n",
       "1  5575-GNVDE  2017-04-01                   No        One year   \n",
       "2  3668-QPYBK  2019-10-01  2019-12-01 00:00:00  Month-to-month   \n",
       "3  7795-CFOCW  2016-05-01                   No        One year   \n",
       "4  9237-HQITU  2019-09-01  2019-11-01 00:00:00  Month-to-month   \n",
       "\n",
       "  PaperlessBilling              PaymentMethod  MonthlyCharges TotalCharges  \n",
       "0              Yes           Electronic check           29.85        29.85  \n",
       "1               No               Mailed check           56.95       1889.5  \n",
       "2              Yes               Mailed check           53.85       108.15  \n",
       "3               No  Bank transfer (automatic)           42.30      1840.75  \n",
       "4              Yes           Electronic check           70.70       151.65  "
      ]
     },
     "execution_count": 3,
     "metadata": {},
     "output_type": "execute_result"
    }
   ],
   "source": [
    "df_contract.head()"
   ]
  },
  {
   "cell_type": "markdown",
   "id": "0729fe68",
   "metadata": {},
   "source": [
    "Основную информацию о датафрейме:"
   ]
  },
  {
   "cell_type": "code",
   "execution_count": 4,
   "id": "90674460",
   "metadata": {
    "scrolled": true
   },
   "outputs": [
    {
     "name": "stdout",
     "output_type": "stream",
     "text": [
      "<class 'pandas.core.frame.DataFrame'>\n",
      "RangeIndex: 7043 entries, 0 to 7042\n",
      "Data columns (total 8 columns):\n",
      " #   Column            Non-Null Count  Dtype  \n",
      "---  ------            --------------  -----  \n",
      " 0   customerID        7043 non-null   object \n",
      " 1   BeginDate         7043 non-null   object \n",
      " 2   EndDate           7043 non-null   object \n",
      " 3   Type              7043 non-null   object \n",
      " 4   PaperlessBilling  7043 non-null   object \n",
      " 5   PaymentMethod     7043 non-null   object \n",
      " 6   MonthlyCharges    7043 non-null   float64\n",
      " 7   TotalCharges      7043 non-null   object \n",
      "dtypes: float64(1), object(7)\n",
      "memory usage: 440.3+ KB\n"
     ]
    }
   ],
   "source": [
    "df_contract.info()"
   ]
  },
  {
   "cell_type": "code",
   "execution_count": 5,
   "id": "9ece865c",
   "metadata": {},
   "outputs": [
    {
     "data": {
      "text/plain": [
       "0"
      ]
     },
     "execution_count": 5,
     "metadata": {},
     "output_type": "execute_result"
    }
   ],
   "source": [
    "df_contract.duplicated().sum()"
   ]
  },
  {
   "cell_type": "markdown",
   "id": "6dc90e8b",
   "metadata": {},
   "source": [
    "Явных пропусков и дубликатов нет, необходима замена типов данных. Посмотрим, какие значения принимают некоторые поля:"
   ]
  },
  {
   "cell_type": "code",
   "execution_count": 6,
   "id": "748fffde",
   "metadata": {},
   "outputs": [
    {
     "data": {
      "text/plain": [
       "Month-to-month    3875\n",
       "Two year          1695\n",
       "One year          1473\n",
       "Name: Type, dtype: int64"
      ]
     },
     "execution_count": 6,
     "metadata": {},
     "output_type": "execute_result"
    }
   ],
   "source": [
    "df_contract['Type'].value_counts()"
   ]
  },
  {
   "cell_type": "code",
   "execution_count": 7,
   "id": "b40609ae",
   "metadata": {},
   "outputs": [
    {
     "data": {
      "text/plain": [
       "Electronic check             2365\n",
       "Mailed check                 1612\n",
       "Bank transfer (automatic)    1544\n",
       "Credit card (automatic)      1522\n",
       "Name: PaymentMethod, dtype: int64"
      ]
     },
     "execution_count": 7,
     "metadata": {},
     "output_type": "execute_result"
    }
   ],
   "source": [
    "df_contract['PaymentMethod'].value_counts()"
   ]
  },
  {
   "cell_type": "code",
   "execution_count": 8,
   "id": "ca32f335",
   "metadata": {},
   "outputs": [
    {
     "data": {
      "text/plain": [
       "20.05     61\n",
       "19.85     45\n",
       "19.95     44\n",
       "19.90     44\n",
       "20.00     43\n",
       "          ..\n",
       "23.65      1\n",
       "114.70     1\n",
       "43.65      1\n",
       "87.80      1\n",
       "78.70      1\n",
       "Name: MonthlyCharges, Length: 1585, dtype: int64"
      ]
     },
     "execution_count": 8,
     "metadata": {},
     "output_type": "execute_result"
    }
   ],
   "source": [
    "df_contract['MonthlyCharges'].value_counts()"
   ]
  },
  {
   "cell_type": "code",
   "execution_count": 9,
   "id": "92e87ee0",
   "metadata": {},
   "outputs": [
    {
     "data": {
      "text/plain": [
       "          11\n",
       "20.2      11\n",
       "19.75      9\n",
       "20.05      8\n",
       "19.9       8\n",
       "          ..\n",
       "6849.4     1\n",
       "692.35     1\n",
       "130.15     1\n",
       "3211.9     1\n",
       "6844.5     1\n",
       "Name: TotalCharges, Length: 6531, dtype: int64"
      ]
     },
     "execution_count": 9,
     "metadata": {},
     "output_type": "execute_result"
    }
   ],
   "source": [
    "df_contract['TotalCharges'].value_counts()"
   ]
  },
  {
   "cell_type": "markdown",
   "id": "6d9dd104",
   "metadata": {},
   "source": [
    "В поле `TotalCharges` есть неявные пропуски с пустым значением. Отсюда и неверный тип данных, прежде чем изменять тип заменим пропуски на нули."
   ]
  },
  {
   "cell_type": "markdown",
   "id": "057c3d02",
   "metadata": {},
   "source": [
    "Пробежимся по полям датафрейма:"
   ]
  },
  {
   "cell_type": "markdown",
   "id": "74269b56",
   "metadata": {},
   "source": [
    "- `customerID` – содержит уникальный айди клиента, никаких действий не требуется;\n",
    "- `BeginDate` – дата начала пользования услугами, **поле необходимо привести к типу *datetime***;\n",
    "- `EndDate` – дата окончания пользования услугами. Это наш целевой признак, любая дата в этом поле соответствует оттоку клиента, если стоит значение \"No\" - клиент остался. Однако, сама по себе дата несет в себе важную ифнормацию - длительность пользования клиентом услугами компании. Отсюда можно сгенерировать дополнительный признак для модели. **Для значения \"No\" можно установить уникальную дату (например дату актуальности датасета - *2020-02-01*), после чего привести поле к формату datetime**;\n",
    "- `Type` – тип оплаты, принимает три значения: ежемесячный, годовой, двухгодовой. Никаких действий не требуется; \n",
    "- `PaperlessBilling` – безналичный расчет, является бинарным признаком. Никаких действий не требуется;\n",
    "- `PaymentMethod` - способ оплаты, принимает четыре значения: электронный чек, почтовый чек, банковский перевод и кредитная карта. Никаких действий не требуется; \n",
    "- `MonthlyCharges` - ежемесячные траты на услуги, **можно привести поле к целочисленному типу для экономии памяти (два знака после запятой - излишняя точность в значениях)**;\n",
    "- `TotalCharges` - всего потрачено денег на услуги, **необходимо привести к числовому формату и заполнить неявные пропуски нулями**."
   ]
  },
  {
   "cell_type": "markdown",
   "id": "19ee1b39",
   "metadata": {},
   "source": [
    "### Датафрейм с информацией об интернет-услугах (df_internet)"
   ]
  },
  {
   "cell_type": "markdown",
   "id": "3ba77550",
   "metadata": {},
   "source": [
    "Выведем первые 5 строк:"
   ]
  },
  {
   "cell_type": "code",
   "execution_count": 10,
   "id": "7f22a52d",
   "metadata": {},
   "outputs": [
    {
     "data": {
      "text/html": [
       "<div>\n",
       "<style scoped>\n",
       "    .dataframe tbody tr th:only-of-type {\n",
       "        vertical-align: middle;\n",
       "    }\n",
       "\n",
       "    .dataframe tbody tr th {\n",
       "        vertical-align: top;\n",
       "    }\n",
       "\n",
       "    .dataframe thead th {\n",
       "        text-align: right;\n",
       "    }\n",
       "</style>\n",
       "<table border=\"1\" class=\"dataframe\">\n",
       "  <thead>\n",
       "    <tr style=\"text-align: right;\">\n",
       "      <th></th>\n",
       "      <th>customerID</th>\n",
       "      <th>InternetService</th>\n",
       "      <th>OnlineSecurity</th>\n",
       "      <th>OnlineBackup</th>\n",
       "      <th>DeviceProtection</th>\n",
       "      <th>TechSupport</th>\n",
       "      <th>StreamingTV</th>\n",
       "      <th>StreamingMovies</th>\n",
       "    </tr>\n",
       "  </thead>\n",
       "  <tbody>\n",
       "    <tr>\n",
       "      <th>0</th>\n",
       "      <td>7590-VHVEG</td>\n",
       "      <td>DSL</td>\n",
       "      <td>No</td>\n",
       "      <td>Yes</td>\n",
       "      <td>No</td>\n",
       "      <td>No</td>\n",
       "      <td>No</td>\n",
       "      <td>No</td>\n",
       "    </tr>\n",
       "    <tr>\n",
       "      <th>1</th>\n",
       "      <td>5575-GNVDE</td>\n",
       "      <td>DSL</td>\n",
       "      <td>Yes</td>\n",
       "      <td>No</td>\n",
       "      <td>Yes</td>\n",
       "      <td>No</td>\n",
       "      <td>No</td>\n",
       "      <td>No</td>\n",
       "    </tr>\n",
       "    <tr>\n",
       "      <th>2</th>\n",
       "      <td>3668-QPYBK</td>\n",
       "      <td>DSL</td>\n",
       "      <td>Yes</td>\n",
       "      <td>Yes</td>\n",
       "      <td>No</td>\n",
       "      <td>No</td>\n",
       "      <td>No</td>\n",
       "      <td>No</td>\n",
       "    </tr>\n",
       "    <tr>\n",
       "      <th>3</th>\n",
       "      <td>7795-CFOCW</td>\n",
       "      <td>DSL</td>\n",
       "      <td>Yes</td>\n",
       "      <td>No</td>\n",
       "      <td>Yes</td>\n",
       "      <td>Yes</td>\n",
       "      <td>No</td>\n",
       "      <td>No</td>\n",
       "    </tr>\n",
       "    <tr>\n",
       "      <th>4</th>\n",
       "      <td>9237-HQITU</td>\n",
       "      <td>Fiber optic</td>\n",
       "      <td>No</td>\n",
       "      <td>No</td>\n",
       "      <td>No</td>\n",
       "      <td>No</td>\n",
       "      <td>No</td>\n",
       "      <td>No</td>\n",
       "    </tr>\n",
       "  </tbody>\n",
       "</table>\n",
       "</div>"
      ],
      "text/plain": [
       "   customerID InternetService OnlineSecurity OnlineBackup DeviceProtection  \\\n",
       "0  7590-VHVEG             DSL             No          Yes               No   \n",
       "1  5575-GNVDE             DSL            Yes           No              Yes   \n",
       "2  3668-QPYBK             DSL            Yes          Yes               No   \n",
       "3  7795-CFOCW             DSL            Yes           No              Yes   \n",
       "4  9237-HQITU     Fiber optic             No           No               No   \n",
       "\n",
       "  TechSupport StreamingTV StreamingMovies  \n",
       "0          No          No              No  \n",
       "1          No          No              No  \n",
       "2          No          No              No  \n",
       "3         Yes          No              No  \n",
       "4          No          No              No  "
      ]
     },
     "execution_count": 10,
     "metadata": {},
     "output_type": "execute_result"
    }
   ],
   "source": [
    "df_internet.head()"
   ]
  },
  {
   "cell_type": "markdown",
   "id": "510284e8",
   "metadata": {},
   "source": [
    "Основную информацию о датафрейме:"
   ]
  },
  {
   "cell_type": "code",
   "execution_count": 11,
   "id": "9b1a5f96",
   "metadata": {},
   "outputs": [
    {
     "name": "stdout",
     "output_type": "stream",
     "text": [
      "<class 'pandas.core.frame.DataFrame'>\n",
      "RangeIndex: 5517 entries, 0 to 5516\n",
      "Data columns (total 8 columns):\n",
      " #   Column            Non-Null Count  Dtype \n",
      "---  ------            --------------  ----- \n",
      " 0   customerID        5517 non-null   object\n",
      " 1   InternetService   5517 non-null   object\n",
      " 2   OnlineSecurity    5517 non-null   object\n",
      " 3   OnlineBackup      5517 non-null   object\n",
      " 4   DeviceProtection  5517 non-null   object\n",
      " 5   TechSupport       5517 non-null   object\n",
      " 6   StreamingTV       5517 non-null   object\n",
      " 7   StreamingMovies   5517 non-null   object\n",
      "dtypes: object(8)\n",
      "memory usage: 344.9+ KB\n"
     ]
    }
   ],
   "source": [
    "df_internet.info()"
   ]
  },
  {
   "cell_type": "code",
   "execution_count": 12,
   "id": "35d3905e",
   "metadata": {},
   "outputs": [
    {
     "data": {
      "text/plain": [
       "0"
      ]
     },
     "execution_count": 12,
     "metadata": {},
     "output_type": "execute_result"
    }
   ],
   "source": [
    "df_internet.duplicated().sum()"
   ]
  },
  {
   "cell_type": "markdown",
   "id": "29cc6a63",
   "metadata": {},
   "source": [
    "Явных пропусков и дубликатов нет. Посмотрим, какие значения принимают некоторые поля:"
   ]
  },
  {
   "cell_type": "code",
   "execution_count": 13,
   "id": "d7b75684",
   "metadata": {},
   "outputs": [
    {
     "data": {
      "text/plain": [
       "Fiber optic    3096\n",
       "DSL            2421\n",
       "Name: InternetService, dtype: int64"
      ]
     },
     "execution_count": 13,
     "metadata": {},
     "output_type": "execute_result"
    }
   ],
   "source": [
    "df_internet['InternetService'].value_counts()"
   ]
  },
  {
   "cell_type": "markdown",
   "id": "8fd69184",
   "metadata": {},
   "source": [
    "Все поля, кроме уникального индификатора пользователя (`customerID`) являются бинарными признаками. Никаких действий не требуется. "
   ]
  },
  {
   "cell_type": "markdown",
   "id": "cef34f72",
   "metadata": {},
   "source": [
    "### Датафрейм с персональными данными клиентов (df_personal)"
   ]
  },
  {
   "cell_type": "markdown",
   "id": "f957e3ea",
   "metadata": {},
   "source": [
    "Выведем первые 5 строк:"
   ]
  },
  {
   "cell_type": "code",
   "execution_count": 14,
   "id": "a4b7a82b",
   "metadata": {},
   "outputs": [
    {
     "data": {
      "text/html": [
       "<div>\n",
       "<style scoped>\n",
       "    .dataframe tbody tr th:only-of-type {\n",
       "        vertical-align: middle;\n",
       "    }\n",
       "\n",
       "    .dataframe tbody tr th {\n",
       "        vertical-align: top;\n",
       "    }\n",
       "\n",
       "    .dataframe thead th {\n",
       "        text-align: right;\n",
       "    }\n",
       "</style>\n",
       "<table border=\"1\" class=\"dataframe\">\n",
       "  <thead>\n",
       "    <tr style=\"text-align: right;\">\n",
       "      <th></th>\n",
       "      <th>customerID</th>\n",
       "      <th>gender</th>\n",
       "      <th>SeniorCitizen</th>\n",
       "      <th>Partner</th>\n",
       "      <th>Dependents</th>\n",
       "    </tr>\n",
       "  </thead>\n",
       "  <tbody>\n",
       "    <tr>\n",
       "      <th>0</th>\n",
       "      <td>7590-VHVEG</td>\n",
       "      <td>Female</td>\n",
       "      <td>0</td>\n",
       "      <td>Yes</td>\n",
       "      <td>No</td>\n",
       "    </tr>\n",
       "    <tr>\n",
       "      <th>1</th>\n",
       "      <td>5575-GNVDE</td>\n",
       "      <td>Male</td>\n",
       "      <td>0</td>\n",
       "      <td>No</td>\n",
       "      <td>No</td>\n",
       "    </tr>\n",
       "    <tr>\n",
       "      <th>2</th>\n",
       "      <td>3668-QPYBK</td>\n",
       "      <td>Male</td>\n",
       "      <td>0</td>\n",
       "      <td>No</td>\n",
       "      <td>No</td>\n",
       "    </tr>\n",
       "    <tr>\n",
       "      <th>3</th>\n",
       "      <td>7795-CFOCW</td>\n",
       "      <td>Male</td>\n",
       "      <td>0</td>\n",
       "      <td>No</td>\n",
       "      <td>No</td>\n",
       "    </tr>\n",
       "    <tr>\n",
       "      <th>4</th>\n",
       "      <td>9237-HQITU</td>\n",
       "      <td>Female</td>\n",
       "      <td>0</td>\n",
       "      <td>No</td>\n",
       "      <td>No</td>\n",
       "    </tr>\n",
       "  </tbody>\n",
       "</table>\n",
       "</div>"
      ],
      "text/plain": [
       "   customerID  gender  SeniorCitizen Partner Dependents\n",
       "0  7590-VHVEG  Female              0     Yes         No\n",
       "1  5575-GNVDE    Male              0      No         No\n",
       "2  3668-QPYBK    Male              0      No         No\n",
       "3  7795-CFOCW    Male              0      No         No\n",
       "4  9237-HQITU  Female              0      No         No"
      ]
     },
     "execution_count": 14,
     "metadata": {},
     "output_type": "execute_result"
    }
   ],
   "source": [
    "df_personal.head()"
   ]
  },
  {
   "cell_type": "markdown",
   "id": "e8e1545b",
   "metadata": {},
   "source": [
    "Основную информацию о датафрейме:"
   ]
  },
  {
   "cell_type": "code",
   "execution_count": 15,
   "id": "f3239438",
   "metadata": {},
   "outputs": [
    {
     "name": "stdout",
     "output_type": "stream",
     "text": [
      "<class 'pandas.core.frame.DataFrame'>\n",
      "RangeIndex: 7043 entries, 0 to 7042\n",
      "Data columns (total 5 columns):\n",
      " #   Column         Non-Null Count  Dtype \n",
      "---  ------         --------------  ----- \n",
      " 0   customerID     7043 non-null   object\n",
      " 1   gender         7043 non-null   object\n",
      " 2   SeniorCitizen  7043 non-null   int64 \n",
      " 3   Partner        7043 non-null   object\n",
      " 4   Dependents     7043 non-null   object\n",
      "dtypes: int64(1), object(4)\n",
      "memory usage: 275.2+ KB\n"
     ]
    }
   ],
   "source": [
    "df_personal.info()"
   ]
  },
  {
   "cell_type": "code",
   "execution_count": 16,
   "id": "de1672b1",
   "metadata": {},
   "outputs": [
    {
     "data": {
      "text/plain": [
       "0"
      ]
     },
     "execution_count": 16,
     "metadata": {},
     "output_type": "execute_result"
    }
   ],
   "source": [
    "df_personal.duplicated().sum()"
   ]
  },
  {
   "cell_type": "markdown",
   "id": "c6484fb6",
   "metadata": {},
   "source": [
    "Явных пропусков и дубликатов нет. "
   ]
  },
  {
   "cell_type": "markdown",
   "id": "32bb6099",
   "metadata": {},
   "source": [
    "Все поля, кроме уникального индификатора пользователя (`customerID`) также являются бинарными признаками. Никаких действий не требуется. "
   ]
  },
  {
   "cell_type": "markdown",
   "id": "894364d6",
   "metadata": {},
   "source": [
    "### Датафрейм с данными о телефонии (df_phone)"
   ]
  },
  {
   "cell_type": "markdown",
   "id": "a5569d84",
   "metadata": {},
   "source": [
    "Выведем первые 5 строк:"
   ]
  },
  {
   "cell_type": "code",
   "execution_count": 17,
   "id": "9e0c5a0d",
   "metadata": {},
   "outputs": [
    {
     "data": {
      "text/html": [
       "<div>\n",
       "<style scoped>\n",
       "    .dataframe tbody tr th:only-of-type {\n",
       "        vertical-align: middle;\n",
       "    }\n",
       "\n",
       "    .dataframe tbody tr th {\n",
       "        vertical-align: top;\n",
       "    }\n",
       "\n",
       "    .dataframe thead th {\n",
       "        text-align: right;\n",
       "    }\n",
       "</style>\n",
       "<table border=\"1\" class=\"dataframe\">\n",
       "  <thead>\n",
       "    <tr style=\"text-align: right;\">\n",
       "      <th></th>\n",
       "      <th>customerID</th>\n",
       "      <th>MultipleLines</th>\n",
       "    </tr>\n",
       "  </thead>\n",
       "  <tbody>\n",
       "    <tr>\n",
       "      <th>0</th>\n",
       "      <td>5575-GNVDE</td>\n",
       "      <td>No</td>\n",
       "    </tr>\n",
       "    <tr>\n",
       "      <th>1</th>\n",
       "      <td>3668-QPYBK</td>\n",
       "      <td>No</td>\n",
       "    </tr>\n",
       "    <tr>\n",
       "      <th>2</th>\n",
       "      <td>9237-HQITU</td>\n",
       "      <td>No</td>\n",
       "    </tr>\n",
       "    <tr>\n",
       "      <th>3</th>\n",
       "      <td>9305-CDSKC</td>\n",
       "      <td>Yes</td>\n",
       "    </tr>\n",
       "    <tr>\n",
       "      <th>4</th>\n",
       "      <td>1452-KIOVK</td>\n",
       "      <td>Yes</td>\n",
       "    </tr>\n",
       "  </tbody>\n",
       "</table>\n",
       "</div>"
      ],
      "text/plain": [
       "   customerID MultipleLines\n",
       "0  5575-GNVDE            No\n",
       "1  3668-QPYBK            No\n",
       "2  9237-HQITU            No\n",
       "3  9305-CDSKC           Yes\n",
       "4  1452-KIOVK           Yes"
      ]
     },
     "execution_count": 17,
     "metadata": {},
     "output_type": "execute_result"
    }
   ],
   "source": [
    "df_phone.head()"
   ]
  },
  {
   "cell_type": "markdown",
   "id": "c32fd3aa",
   "metadata": {},
   "source": [
    "Основную информацию о датафрейме:"
   ]
  },
  {
   "cell_type": "code",
   "execution_count": 18,
   "id": "b8e0f040",
   "metadata": {},
   "outputs": [
    {
     "name": "stdout",
     "output_type": "stream",
     "text": [
      "<class 'pandas.core.frame.DataFrame'>\n",
      "RangeIndex: 6361 entries, 0 to 6360\n",
      "Data columns (total 2 columns):\n",
      " #   Column         Non-Null Count  Dtype \n",
      "---  ------         --------------  ----- \n",
      " 0   customerID     6361 non-null   object\n",
      " 1   MultipleLines  6361 non-null   object\n",
      "dtypes: object(2)\n",
      "memory usage: 99.5+ KB\n"
     ]
    }
   ],
   "source": [
    "df_phone.info()"
   ]
  },
  {
   "cell_type": "code",
   "execution_count": 19,
   "id": "92dc9ea9",
   "metadata": {},
   "outputs": [
    {
     "data": {
      "text/plain": [
       "0"
      ]
     },
     "execution_count": 19,
     "metadata": {},
     "output_type": "execute_result"
    }
   ],
   "source": [
    "df_phone.duplicated().sum()"
   ]
  },
  {
   "cell_type": "markdown",
   "id": "e343c45c",
   "metadata": {},
   "source": [
    "Явных пропусков и дубликатов нет. Датафрейм содержит уникальный индификатор пользователя и бинарный признак `MultipleLines` - наличие возможности ведения параллельных линий во время звонка. Никаких действий не требуется."
   ]
  },
  {
   "cell_type": "markdown",
   "id": "12e6fc9f",
   "metadata": {},
   "source": [
    "### Вывод"
   ]
  },
  {
   "cell_type": "markdown",
   "id": "c94b676d",
   "metadata": {},
   "source": [
    "1. Загружены и рассмотрены таблицы с данными: \n",
    "\n",
    "- `df_contract`;  \n",
    "- `df_internet`;\n",
    "- `df_personal`;\n",
    "- `df_phone`.\n",
    "\n",
    "2. Всего в выборке представлены договоры с 7043 клиентами, из которых пользователей интернета - 5517, пользователей телефона - 6361.\n",
    "\n",
    "3. Явные пропуски и дубликаты не найдены.\n",
    "\n",
    "4. Проблемы для предобработки данных:\n",
    "\n",
    "- `BeginDate` – поле необходимо привести к типу *datetime*;\n",
    "\n",
    "- `EndDate` – это наш целевой признак, любая дата в этом поле соответствует оттоку клиента, если стоит значение \"No\" - клиент остался. Однако, сама по себе дата несет в себе важную ифнормацию - длительность пользования клиентом услугами компании. Отсюда можно сгенерировать дополнительный признак для модели. Для значения \"No\" можно установить уникальную дату (например дату актуальности датасета - *2020-02-01*), после чего привести поле к формату *datetime*;\n",
    "- `MonthlyCharges` - можно привести поле к целочисленному типу для экономии памяти (два знака после запятой - излишняя точность в значениях);\n",
    "- `TotalCharges` - необходимо избавится от неявных пропусков (пустые значения, заполним нулями), а также привести к числовому формату, например целочисленный тип.\n",
    "\n",
    "5. После этого следует объединить все данные в одну таблицу, провести исследовательский анализ данных, а также дополнительное исследование на наличие пропусков и аномалий. \n",
    "\n",
    "Дополнительных вопросов к данным на данном этапе не возникло."
   ]
  },
  {
   "cell_type": "markdown",
   "id": "9065ab5d",
   "metadata": {},
   "source": [
    "## Предобработка и исследовательский анализ данных"
   ]
  },
  {
   "cell_type": "markdown",
   "id": "43d26b68",
   "metadata": {},
   "source": [
    "Сперва решим выявленные проблемы. Поставим \"заглушку\" в поле `EndDate` (дату актуальности датасета - *2020-02-01*):"
   ]
  },
  {
   "cell_type": "code",
   "execution_count": 20,
   "id": "219392cf",
   "metadata": {},
   "outputs": [],
   "source": [
    "df_contract['EndDate'] = df_contract['EndDate'].replace(['No'], ['2020-02-01'])"
   ]
  },
  {
   "cell_type": "markdown",
   "id": "e1516a08",
   "metadata": {},
   "source": [
    "Заполним неявные пропуски в поле `TotalCharges` нулями:"
   ]
  },
  {
   "cell_type": "code",
   "execution_count": 21,
   "id": "292184f4",
   "metadata": {},
   "outputs": [],
   "source": [
    "df_contract['TotalCharges'] = df_contract['TotalCharges'].replace([' '], 0)"
   ]
  },
  {
   "cell_type": "markdown",
   "id": "2c7a0455",
   "metadata": {},
   "source": [
    "Приведем поля `BeginDate` и `EndDate` к типу *datetime*, а `MonthlyCharges` и `TotalCharges` к целочисленному (*int*):"
   ]
  },
  {
   "cell_type": "markdown",
   "id": "e3976baa",
   "metadata": {},
   "source": [
    "*Примечание.* Так как строковое значение с точкой невозможно сразу преобразовать в целочисленный тип, поле `TotalCharges` сначала приводится в вещественный (*float*), и потом в целый (*int*)."
   ]
  },
  {
   "cell_type": "code",
   "execution_count": 22,
   "id": "0e824e88",
   "metadata": {},
   "outputs": [],
   "source": [
    "df_contract['BeginDate'] = pd.to_datetime(df_contract['BeginDate'],format = '%Y-%m-%d')\n",
    "df_contract['EndDate'] = pd.to_datetime(df_contract['EndDate'],format = '%Y-%m-%d')\n",
    "\n",
    "df_contract['MonthlyCharges'] = df_contract['MonthlyCharges'].astype('int')\n",
    "df_contract['TotalCharges'] = df_contract['TotalCharges'].astype('float')"
   ]
  },
  {
   "cell_type": "code",
   "execution_count": 23,
   "id": "3884eb84",
   "metadata": {},
   "outputs": [],
   "source": [
    "df_contract['TotalCharges'] = df_contract['TotalCharges'].astype('int')"
   ]
  },
  {
   "cell_type": "markdown",
   "id": "e3028cb2",
   "metadata": {},
   "source": [
    "Предобработка завершена. Выполним объединение данных в одну таблицу:"
   ]
  },
  {
   "cell_type": "code",
   "execution_count": 24,
   "id": "41a752e1",
   "metadata": {},
   "outputs": [],
   "source": [
    "df_telecom = df_contract.set_index('customerID').join(df_phone.set_index('customerID'))\n",
    "df_telecom = df_telecom.join(df_personal.set_index('customerID'))\n",
    "df_telecom = df_telecom.join(df_internet.set_index('customerID'))"
   ]
  },
  {
   "cell_type": "code",
   "execution_count": 25,
   "id": "4b48c93a",
   "metadata": {
    "scrolled": false
   },
   "outputs": [
    {
     "name": "stdout",
     "output_type": "stream",
     "text": [
      "<class 'pandas.core.frame.DataFrame'>\n",
      "Index: 7043 entries, 7590-VHVEG to 3186-AJIEK\n",
      "Data columns (total 19 columns):\n",
      " #   Column            Non-Null Count  Dtype         \n",
      "---  ------            --------------  -----         \n",
      " 0   BeginDate         7043 non-null   datetime64[ns]\n",
      " 1   EndDate           7043 non-null   datetime64[ns]\n",
      " 2   Type              7043 non-null   object        \n",
      " 3   PaperlessBilling  7043 non-null   object        \n",
      " 4   PaymentMethod     7043 non-null   object        \n",
      " 5   MonthlyCharges    7043 non-null   int32         \n",
      " 6   TotalCharges      7043 non-null   int32         \n",
      " 7   MultipleLines     6361 non-null   object        \n",
      " 8   gender            7043 non-null   object        \n",
      " 9   SeniorCitizen     7043 non-null   int64         \n",
      " 10  Partner           7043 non-null   object        \n",
      " 11  Dependents        7043 non-null   object        \n",
      " 12  InternetService   5517 non-null   object        \n",
      " 13  OnlineSecurity    5517 non-null   object        \n",
      " 14  OnlineBackup      5517 non-null   object        \n",
      " 15  DeviceProtection  5517 non-null   object        \n",
      " 16  TechSupport       5517 non-null   object        \n",
      " 17  StreamingTV       5517 non-null   object        \n",
      " 18  StreamingMovies   5517 non-null   object        \n",
      "dtypes: datetime64[ns](2), int32(2), int64(1), object(14)\n",
      "memory usage: 1.3+ MB\n"
     ]
    }
   ],
   "source": [
    "df_telecom.info()"
   ]
  },
  {
   "cell_type": "markdown",
   "id": "802d4e54",
   "metadata": {},
   "source": [
    "В полях, соответствующих услугам возникли пропуски - заполним их значением соответствующим \"No\". Однако, со строковыми признаками неудобно работать. Закодируем все бинарные признаки (начнем с услуг):"
   ]
  },
  {
   "cell_type": "code",
   "execution_count": 26,
   "id": "12506dd9",
   "metadata": {},
   "outputs": [],
   "source": [
    "def coding_for_binary_features(df, column):\n",
    "    df[column].fillna(0, inplace = True) # пропуск соответствует значению \"No\"\n",
    "    df[column] = df[column].replace(['No'], 0)\n",
    "    df[column] = df[column].replace(['Yes'], 1)\n",
    "    return df[column]"
   ]
  },
  {
   "cell_type": "code",
   "execution_count": 27,
   "id": "dbfc13c8",
   "metadata": {},
   "outputs": [],
   "source": [
    "df_telecom['MultipleLines'] = coding_for_binary_features(df_telecom, 'MultipleLines')\n",
    "df_telecom['InternetService'] = coding_for_binary_features(df_telecom, 'InternetService')\n",
    "df_telecom['OnlineSecurity'] = coding_for_binary_features(df_telecom, 'OnlineSecurity')\n",
    "df_telecom['OnlineBackup'] = coding_for_binary_features(df_telecom, 'OnlineBackup')\n",
    "df_telecom['DeviceProtection'] = coding_for_binary_features(df_telecom, 'DeviceProtection')\n",
    "df_telecom['TechSupport'] = coding_for_binary_features(df_telecom, 'TechSupport')\n",
    "df_telecom['StreamingTV'] = coding_for_binary_features(df_telecom, 'StreamingTV')\n",
    "df_telecom['StreamingMovies'] = coding_for_binary_features(df_telecom, 'StreamingMovies')\n",
    "\n",
    "# отдельно закодируем Partner и Dependents\n",
    "\n",
    "df_telecom['Partner'] = coding_for_binary_features(df_telecom, 'Partner')\n",
    "df_telecom['Dependents'] = coding_for_binary_features(df_telecom, 'Dependents')"
   ]
  },
  {
   "cell_type": "markdown",
   "id": "13d6cb07",
   "metadata": {},
   "source": [
    "Бинарными являются также поля `gener`, `Paperless_billing`, `InternetService`:"
   ]
  },
  {
   "cell_type": "code",
   "execution_count": 28,
   "id": "f4be719f",
   "metadata": {},
   "outputs": [],
   "source": [
    "df_telecom['is_male'] = df_telecom['gender'].replace(['Male'], 1).replace(['Female'], 0)\n",
    "df_telecom['PaperlessBilling'] = df_telecom['PaperlessBilling'].replace(['Yes'], 1).replace(['No'], 0)\n",
    "df_telecom['is_DSL_service'] = df_telecom['InternetService'].replace(['DSL'], 1).replace(['Fiber optic'], 0)"
   ]
  },
  {
   "cell_type": "markdown",
   "id": "c797b5f5",
   "metadata": {},
   "source": [
    "Поля `gender` и `InternetService` были трансформированы в `is_male` и `is_DSL_service`, неактуальные отбросим:"
   ]
  },
  {
   "cell_type": "code",
   "execution_count": 29,
   "id": "cfd4d115",
   "metadata": {},
   "outputs": [],
   "source": [
    "df_telecom = df_telecom.drop(['gender', 'InternetService'], axis=1)"
   ]
  },
  {
   "cell_type": "markdown",
   "id": "59f1bd3d",
   "metadata": {},
   "source": [
    "Выведем первые 5 строк нового датафрейма:"
   ]
  },
  {
   "cell_type": "code",
   "execution_count": 30,
   "id": "47326923",
   "metadata": {},
   "outputs": [
    {
     "data": {
      "text/html": [
       "<div>\n",
       "<style scoped>\n",
       "    .dataframe tbody tr th:only-of-type {\n",
       "        vertical-align: middle;\n",
       "    }\n",
       "\n",
       "    .dataframe tbody tr th {\n",
       "        vertical-align: top;\n",
       "    }\n",
       "\n",
       "    .dataframe thead th {\n",
       "        text-align: right;\n",
       "    }\n",
       "</style>\n",
       "<table border=\"1\" class=\"dataframe\">\n",
       "  <thead>\n",
       "    <tr style=\"text-align: right;\">\n",
       "      <th></th>\n",
       "      <th>BeginDate</th>\n",
       "      <th>EndDate</th>\n",
       "      <th>Type</th>\n",
       "      <th>PaperlessBilling</th>\n",
       "      <th>PaymentMethod</th>\n",
       "      <th>MonthlyCharges</th>\n",
       "      <th>TotalCharges</th>\n",
       "      <th>MultipleLines</th>\n",
       "      <th>SeniorCitizen</th>\n",
       "      <th>Partner</th>\n",
       "      <th>Dependents</th>\n",
       "      <th>OnlineSecurity</th>\n",
       "      <th>OnlineBackup</th>\n",
       "      <th>DeviceProtection</th>\n",
       "      <th>TechSupport</th>\n",
       "      <th>StreamingTV</th>\n",
       "      <th>StreamingMovies</th>\n",
       "      <th>is_male</th>\n",
       "      <th>is_DSL_service</th>\n",
       "    </tr>\n",
       "    <tr>\n",
       "      <th>customerID</th>\n",
       "      <th></th>\n",
       "      <th></th>\n",
       "      <th></th>\n",
       "      <th></th>\n",
       "      <th></th>\n",
       "      <th></th>\n",
       "      <th></th>\n",
       "      <th></th>\n",
       "      <th></th>\n",
       "      <th></th>\n",
       "      <th></th>\n",
       "      <th></th>\n",
       "      <th></th>\n",
       "      <th></th>\n",
       "      <th></th>\n",
       "      <th></th>\n",
       "      <th></th>\n",
       "      <th></th>\n",
       "      <th></th>\n",
       "    </tr>\n",
       "  </thead>\n",
       "  <tbody>\n",
       "    <tr>\n",
       "      <th>7590-VHVEG</th>\n",
       "      <td>2020-01-01</td>\n",
       "      <td>2020-02-01</td>\n",
       "      <td>Month-to-month</td>\n",
       "      <td>1</td>\n",
       "      <td>Electronic check</td>\n",
       "      <td>29</td>\n",
       "      <td>29</td>\n",
       "      <td>0</td>\n",
       "      <td>0</td>\n",
       "      <td>1</td>\n",
       "      <td>0</td>\n",
       "      <td>0</td>\n",
       "      <td>1</td>\n",
       "      <td>0</td>\n",
       "      <td>0</td>\n",
       "      <td>0</td>\n",
       "      <td>0</td>\n",
       "      <td>0</td>\n",
       "      <td>1</td>\n",
       "    </tr>\n",
       "    <tr>\n",
       "      <th>5575-GNVDE</th>\n",
       "      <td>2017-04-01</td>\n",
       "      <td>2020-02-01</td>\n",
       "      <td>One year</td>\n",
       "      <td>0</td>\n",
       "      <td>Mailed check</td>\n",
       "      <td>56</td>\n",
       "      <td>1889</td>\n",
       "      <td>0</td>\n",
       "      <td>0</td>\n",
       "      <td>0</td>\n",
       "      <td>0</td>\n",
       "      <td>1</td>\n",
       "      <td>0</td>\n",
       "      <td>1</td>\n",
       "      <td>0</td>\n",
       "      <td>0</td>\n",
       "      <td>0</td>\n",
       "      <td>1</td>\n",
       "      <td>1</td>\n",
       "    </tr>\n",
       "    <tr>\n",
       "      <th>3668-QPYBK</th>\n",
       "      <td>2019-10-01</td>\n",
       "      <td>2019-12-01</td>\n",
       "      <td>Month-to-month</td>\n",
       "      <td>1</td>\n",
       "      <td>Mailed check</td>\n",
       "      <td>53</td>\n",
       "      <td>108</td>\n",
       "      <td>0</td>\n",
       "      <td>0</td>\n",
       "      <td>0</td>\n",
       "      <td>0</td>\n",
       "      <td>1</td>\n",
       "      <td>1</td>\n",
       "      <td>0</td>\n",
       "      <td>0</td>\n",
       "      <td>0</td>\n",
       "      <td>0</td>\n",
       "      <td>1</td>\n",
       "      <td>1</td>\n",
       "    </tr>\n",
       "    <tr>\n",
       "      <th>7795-CFOCW</th>\n",
       "      <td>2016-05-01</td>\n",
       "      <td>2020-02-01</td>\n",
       "      <td>One year</td>\n",
       "      <td>0</td>\n",
       "      <td>Bank transfer (automatic)</td>\n",
       "      <td>42</td>\n",
       "      <td>1840</td>\n",
       "      <td>0</td>\n",
       "      <td>0</td>\n",
       "      <td>0</td>\n",
       "      <td>0</td>\n",
       "      <td>1</td>\n",
       "      <td>0</td>\n",
       "      <td>1</td>\n",
       "      <td>1</td>\n",
       "      <td>0</td>\n",
       "      <td>0</td>\n",
       "      <td>1</td>\n",
       "      <td>1</td>\n",
       "    </tr>\n",
       "    <tr>\n",
       "      <th>9237-HQITU</th>\n",
       "      <td>2019-09-01</td>\n",
       "      <td>2019-11-01</td>\n",
       "      <td>Month-to-month</td>\n",
       "      <td>1</td>\n",
       "      <td>Electronic check</td>\n",
       "      <td>70</td>\n",
       "      <td>151</td>\n",
       "      <td>0</td>\n",
       "      <td>0</td>\n",
       "      <td>0</td>\n",
       "      <td>0</td>\n",
       "      <td>0</td>\n",
       "      <td>0</td>\n",
       "      <td>0</td>\n",
       "      <td>0</td>\n",
       "      <td>0</td>\n",
       "      <td>0</td>\n",
       "      <td>0</td>\n",
       "      <td>0</td>\n",
       "    </tr>\n",
       "  </tbody>\n",
       "</table>\n",
       "</div>"
      ],
      "text/plain": [
       "            BeginDate    EndDate            Type  PaperlessBilling  \\\n",
       "customerID                                                           \n",
       "7590-VHVEG 2020-01-01 2020-02-01  Month-to-month                 1   \n",
       "5575-GNVDE 2017-04-01 2020-02-01        One year                 0   \n",
       "3668-QPYBK 2019-10-01 2019-12-01  Month-to-month                 1   \n",
       "7795-CFOCW 2016-05-01 2020-02-01        One year                 0   \n",
       "9237-HQITU 2019-09-01 2019-11-01  Month-to-month                 1   \n",
       "\n",
       "                        PaymentMethod  MonthlyCharges  TotalCharges  \\\n",
       "customerID                                                            \n",
       "7590-VHVEG           Electronic check              29            29   \n",
       "5575-GNVDE               Mailed check              56          1889   \n",
       "3668-QPYBK               Mailed check              53           108   \n",
       "7795-CFOCW  Bank transfer (automatic)              42          1840   \n",
       "9237-HQITU           Electronic check              70           151   \n",
       "\n",
       "            MultipleLines  SeniorCitizen  Partner  Dependents  OnlineSecurity  \\\n",
       "customerID                                                                      \n",
       "7590-VHVEG              0              0        1           0               0   \n",
       "5575-GNVDE              0              0        0           0               1   \n",
       "3668-QPYBK              0              0        0           0               1   \n",
       "7795-CFOCW              0              0        0           0               1   \n",
       "9237-HQITU              0              0        0           0               0   \n",
       "\n",
       "            OnlineBackup  DeviceProtection  TechSupport  StreamingTV  \\\n",
       "customerID                                                             \n",
       "7590-VHVEG             1                 0            0            0   \n",
       "5575-GNVDE             0                 1            0            0   \n",
       "3668-QPYBK             1                 0            0            0   \n",
       "7795-CFOCW             0                 1            1            0   \n",
       "9237-HQITU             0                 0            0            0   \n",
       "\n",
       "            StreamingMovies  is_male  is_DSL_service  \n",
       "customerID                                            \n",
       "7590-VHVEG                0        0               1  \n",
       "5575-GNVDE                0        1               1  \n",
       "3668-QPYBK                0        1               1  \n",
       "7795-CFOCW                0        1               1  \n",
       "9237-HQITU                0        0               0  "
      ]
     },
     "execution_count": 30,
     "metadata": {},
     "output_type": "execute_result"
    }
   ],
   "source": [
    "df_telecom.head()"
   ]
  },
  {
   "cell_type": "markdown",
   "id": "01f65715",
   "metadata": {},
   "source": [
    "Посмотрим основную информацию о новом датафрейме:"
   ]
  },
  {
   "cell_type": "code",
   "execution_count": 31,
   "id": "7b91cfe6",
   "metadata": {},
   "outputs": [
    {
     "name": "stdout",
     "output_type": "stream",
     "text": [
      "<class 'pandas.core.frame.DataFrame'>\n",
      "Index: 7043 entries, 7590-VHVEG to 3186-AJIEK\n",
      "Data columns (total 19 columns):\n",
      " #   Column            Non-Null Count  Dtype         \n",
      "---  ------            --------------  -----         \n",
      " 0   BeginDate         7043 non-null   datetime64[ns]\n",
      " 1   EndDate           7043 non-null   datetime64[ns]\n",
      " 2   Type              7043 non-null   object        \n",
      " 3   PaperlessBilling  7043 non-null   int64         \n",
      " 4   PaymentMethod     7043 non-null   object        \n",
      " 5   MonthlyCharges    7043 non-null   int32         \n",
      " 6   TotalCharges      7043 non-null   int32         \n",
      " 7   MultipleLines     7043 non-null   int64         \n",
      " 8   SeniorCitizen     7043 non-null   int64         \n",
      " 9   Partner           7043 non-null   int64         \n",
      " 10  Dependents        7043 non-null   int64         \n",
      " 11  OnlineSecurity    7043 non-null   int64         \n",
      " 12  OnlineBackup      7043 non-null   int64         \n",
      " 13  DeviceProtection  7043 non-null   int64         \n",
      " 14  TechSupport       7043 non-null   int64         \n",
      " 15  StreamingTV       7043 non-null   int64         \n",
      " 16  StreamingMovies   7043 non-null   int64         \n",
      " 17  is_male           7043 non-null   int64         \n",
      " 18  is_DSL_service    7043 non-null   int64         \n",
      "dtypes: datetime64[ns](2), int32(2), int64(13), object(2)\n",
      "memory usage: 1.3+ MB\n"
     ]
    }
   ],
   "source": [
    "df_telecom.info()"
   ]
  },
  {
   "cell_type": "markdown",
   "id": "13d5262f",
   "metadata": {},
   "source": [
    "И его основные статистические характеристики:"
   ]
  },
  {
   "cell_type": "code",
   "execution_count": 32,
   "id": "e1cfd2c0",
   "metadata": {},
   "outputs": [
    {
     "data": {
      "text/html": [
       "<div>\n",
       "<style scoped>\n",
       "    .dataframe tbody tr th:only-of-type {\n",
       "        vertical-align: middle;\n",
       "    }\n",
       "\n",
       "    .dataframe tbody tr th {\n",
       "        vertical-align: top;\n",
       "    }\n",
       "\n",
       "    .dataframe thead th {\n",
       "        text-align: right;\n",
       "    }\n",
       "</style>\n",
       "<table border=\"1\" class=\"dataframe\">\n",
       "  <thead>\n",
       "    <tr style=\"text-align: right;\">\n",
       "      <th></th>\n",
       "      <th>count</th>\n",
       "      <th>mean</th>\n",
       "      <th>std</th>\n",
       "      <th>min</th>\n",
       "      <th>25%</th>\n",
       "      <th>50%</th>\n",
       "      <th>75%</th>\n",
       "      <th>max</th>\n",
       "    </tr>\n",
       "  </thead>\n",
       "  <tbody>\n",
       "    <tr>\n",
       "      <th>PaperlessBilling</th>\n",
       "      <td>7043.0</td>\n",
       "      <td>0.592219</td>\n",
       "      <td>0.491457</td>\n",
       "      <td>0.0</td>\n",
       "      <td>0.0</td>\n",
       "      <td>1.0</td>\n",
       "      <td>1.0</td>\n",
       "      <td>1.0</td>\n",
       "    </tr>\n",
       "    <tr>\n",
       "      <th>MonthlyCharges</th>\n",
       "      <td>7043.0</td>\n",
       "      <td>64.295897</td>\n",
       "      <td>30.092727</td>\n",
       "      <td>18.0</td>\n",
       "      <td>35.0</td>\n",
       "      <td>70.0</td>\n",
       "      <td>89.0</td>\n",
       "      <td>118.0</td>\n",
       "    </tr>\n",
       "    <tr>\n",
       "      <th>TotalCharges</th>\n",
       "      <td>7043.0</td>\n",
       "      <td>2279.265086</td>\n",
       "      <td>2266.790864</td>\n",
       "      <td>0.0</td>\n",
       "      <td>398.0</td>\n",
       "      <td>1394.0</td>\n",
       "      <td>3786.5</td>\n",
       "      <td>8684.0</td>\n",
       "    </tr>\n",
       "    <tr>\n",
       "      <th>MultipleLines</th>\n",
       "      <td>7043.0</td>\n",
       "      <td>0.421837</td>\n",
       "      <td>0.493888</td>\n",
       "      <td>0.0</td>\n",
       "      <td>0.0</td>\n",
       "      <td>0.0</td>\n",
       "      <td>1.0</td>\n",
       "      <td>1.0</td>\n",
       "    </tr>\n",
       "    <tr>\n",
       "      <th>SeniorCitizen</th>\n",
       "      <td>7043.0</td>\n",
       "      <td>0.162147</td>\n",
       "      <td>0.368612</td>\n",
       "      <td>0.0</td>\n",
       "      <td>0.0</td>\n",
       "      <td>0.0</td>\n",
       "      <td>0.0</td>\n",
       "      <td>1.0</td>\n",
       "    </tr>\n",
       "    <tr>\n",
       "      <th>Partner</th>\n",
       "      <td>7043.0</td>\n",
       "      <td>0.483033</td>\n",
       "      <td>0.499748</td>\n",
       "      <td>0.0</td>\n",
       "      <td>0.0</td>\n",
       "      <td>0.0</td>\n",
       "      <td>1.0</td>\n",
       "      <td>1.0</td>\n",
       "    </tr>\n",
       "    <tr>\n",
       "      <th>Dependents</th>\n",
       "      <td>7043.0</td>\n",
       "      <td>0.299588</td>\n",
       "      <td>0.458110</td>\n",
       "      <td>0.0</td>\n",
       "      <td>0.0</td>\n",
       "      <td>0.0</td>\n",
       "      <td>1.0</td>\n",
       "      <td>1.0</td>\n",
       "    </tr>\n",
       "    <tr>\n",
       "      <th>OnlineSecurity</th>\n",
       "      <td>7043.0</td>\n",
       "      <td>0.286668</td>\n",
       "      <td>0.452237</td>\n",
       "      <td>0.0</td>\n",
       "      <td>0.0</td>\n",
       "      <td>0.0</td>\n",
       "      <td>1.0</td>\n",
       "      <td>1.0</td>\n",
       "    </tr>\n",
       "    <tr>\n",
       "      <th>OnlineBackup</th>\n",
       "      <td>7043.0</td>\n",
       "      <td>0.344881</td>\n",
       "      <td>0.475363</td>\n",
       "      <td>0.0</td>\n",
       "      <td>0.0</td>\n",
       "      <td>0.0</td>\n",
       "      <td>1.0</td>\n",
       "      <td>1.0</td>\n",
       "    </tr>\n",
       "    <tr>\n",
       "      <th>DeviceProtection</th>\n",
       "      <td>7043.0</td>\n",
       "      <td>0.343888</td>\n",
       "      <td>0.475038</td>\n",
       "      <td>0.0</td>\n",
       "      <td>0.0</td>\n",
       "      <td>0.0</td>\n",
       "      <td>1.0</td>\n",
       "      <td>1.0</td>\n",
       "    </tr>\n",
       "    <tr>\n",
       "      <th>TechSupport</th>\n",
       "      <td>7043.0</td>\n",
       "      <td>0.290217</td>\n",
       "      <td>0.453895</td>\n",
       "      <td>0.0</td>\n",
       "      <td>0.0</td>\n",
       "      <td>0.0</td>\n",
       "      <td>1.0</td>\n",
       "      <td>1.0</td>\n",
       "    </tr>\n",
       "    <tr>\n",
       "      <th>StreamingTV</th>\n",
       "      <td>7043.0</td>\n",
       "      <td>0.384353</td>\n",
       "      <td>0.486477</td>\n",
       "      <td>0.0</td>\n",
       "      <td>0.0</td>\n",
       "      <td>0.0</td>\n",
       "      <td>1.0</td>\n",
       "      <td>1.0</td>\n",
       "    </tr>\n",
       "    <tr>\n",
       "      <th>StreamingMovies</th>\n",
       "      <td>7043.0</td>\n",
       "      <td>0.387903</td>\n",
       "      <td>0.487307</td>\n",
       "      <td>0.0</td>\n",
       "      <td>0.0</td>\n",
       "      <td>0.0</td>\n",
       "      <td>1.0</td>\n",
       "      <td>1.0</td>\n",
       "    </tr>\n",
       "    <tr>\n",
       "      <th>is_male</th>\n",
       "      <td>7043.0</td>\n",
       "      <td>0.504756</td>\n",
       "      <td>0.500013</td>\n",
       "      <td>0.0</td>\n",
       "      <td>0.0</td>\n",
       "      <td>1.0</td>\n",
       "      <td>1.0</td>\n",
       "      <td>1.0</td>\n",
       "    </tr>\n",
       "    <tr>\n",
       "      <th>is_DSL_service</th>\n",
       "      <td>7043.0</td>\n",
       "      <td>0.343746</td>\n",
       "      <td>0.474991</td>\n",
       "      <td>0.0</td>\n",
       "      <td>0.0</td>\n",
       "      <td>0.0</td>\n",
       "      <td>1.0</td>\n",
       "      <td>1.0</td>\n",
       "    </tr>\n",
       "  </tbody>\n",
       "</table>\n",
       "</div>"
      ],
      "text/plain": [
       "                   count         mean          std   min    25%     50%  \\\n",
       "PaperlessBilling  7043.0     0.592219     0.491457   0.0    0.0     1.0   \n",
       "MonthlyCharges    7043.0    64.295897    30.092727  18.0   35.0    70.0   \n",
       "TotalCharges      7043.0  2279.265086  2266.790864   0.0  398.0  1394.0   \n",
       "MultipleLines     7043.0     0.421837     0.493888   0.0    0.0     0.0   \n",
       "SeniorCitizen     7043.0     0.162147     0.368612   0.0    0.0     0.0   \n",
       "Partner           7043.0     0.483033     0.499748   0.0    0.0     0.0   \n",
       "Dependents        7043.0     0.299588     0.458110   0.0    0.0     0.0   \n",
       "OnlineSecurity    7043.0     0.286668     0.452237   0.0    0.0     0.0   \n",
       "OnlineBackup      7043.0     0.344881     0.475363   0.0    0.0     0.0   \n",
       "DeviceProtection  7043.0     0.343888     0.475038   0.0    0.0     0.0   \n",
       "TechSupport       7043.0     0.290217     0.453895   0.0    0.0     0.0   \n",
       "StreamingTV       7043.0     0.384353     0.486477   0.0    0.0     0.0   \n",
       "StreamingMovies   7043.0     0.387903     0.487307   0.0    0.0     0.0   \n",
       "is_male           7043.0     0.504756     0.500013   0.0    0.0     1.0   \n",
       "is_DSL_service    7043.0     0.343746     0.474991   0.0    0.0     0.0   \n",
       "\n",
       "                     75%     max  \n",
       "PaperlessBilling     1.0     1.0  \n",
       "MonthlyCharges      89.0   118.0  \n",
       "TotalCharges      3786.5  8684.0  \n",
       "MultipleLines        1.0     1.0  \n",
       "SeniorCitizen        0.0     1.0  \n",
       "Partner              1.0     1.0  \n",
       "Dependents           1.0     1.0  \n",
       "OnlineSecurity       1.0     1.0  \n",
       "OnlineBackup         1.0     1.0  \n",
       "DeviceProtection     1.0     1.0  \n",
       "TechSupport          1.0     1.0  \n",
       "StreamingTV          1.0     1.0  \n",
       "StreamingMovies      1.0     1.0  \n",
       "is_male              1.0     1.0  \n",
       "is_DSL_service       1.0     1.0  "
      ]
     },
     "execution_count": 32,
     "metadata": {},
     "output_type": "execute_result"
    }
   ],
   "source": [
    "df_telecom.describe().T"
   ]
  },
  {
   "cell_type": "markdown",
   "id": "242d5c53",
   "metadata": {},
   "source": [
    "Из статистических характеристик датафрейма можно выделить интересные особенности:\n",
    "\n",
    "- практически две трети пользователей предпочитают безналичный расчет;\n",
    "\n",
    "- среднее значение месячных трат практически совпадает с медианным значением, то есть имеет распределение с небольшим отрицательным смещением;\n",
    "\n",
    "- **распределение значений суммарных трат наоборот, сильное положительное смещение - медиана практически на 40% меньше среднего. Возможно это связано с наличием нулей - неявных пропусков. Это нужно выяснить далее**;\n",
    "\n",
    "- относительно демографии: 16% пенсионеров, 48% имеют супруга(у), у 29% клиентов имеются иждевенцы. Баланс классов гендера соблюдается;\n",
    "\n",
    "- 34% пользователей продолжают использовать интернет соединение через через телефонную линию, 42% пользователей имеют возможность использовать вторую линию во время звонка; \n",
    "\n",
    "- По услугам данные приведены в таблице:\n",
    "\n",
    "|Услуга| Доля пользователей услуги |  \n",
    "|------|---------------------------|\n",
    "|антивирус (DeviceProtection)| 34%|\n",
    "|блокировка небезопасных сайтов (OnlineSecurity)| 29%|\n",
    "|выделенная линия технической поддержки (TechSupport)| 29%|\n",
    "|облачное хранилище файлов для резервного копирования данных (OnlineBackup)|34%|\n",
    "|cтриминговое телевидение (StreamingTV)|38%|\n",
    "|каталог фильмов (StreamingMovies)|39%|"
   ]
  },
  {
   "cell_type": "markdown",
   "id": "0dc7138e",
   "metadata": {},
   "source": [
    "Посмотрим распределение значений в полях с тратами:"
   ]
  },
  {
   "cell_type": "code",
   "execution_count": 33,
   "id": "87e4c781",
   "metadata": {},
   "outputs": [],
   "source": [
    "# здесь и далее выставим размер всех графиков\n",
    "plt.rcParams[\"figure.figsize\"] = (20,8)\n",
    "# и темный фон с сеткой в seaborn\n",
    "sns.set_style(\"darkgrid\")"
   ]
  },
  {
   "cell_type": "markdown",
   "id": "3775e5cb",
   "metadata": {},
   "source": [
    "Построим распределение значений ежемесячных трат:"
   ]
  },
  {
   "cell_type": "code",
   "execution_count": 34,
   "id": "1ae7f0e6",
   "metadata": {},
   "outputs": [
    {
     "data": {
      "image/png": "[encoded data removed]",
      "text/plain": [
       "<Figure size 1440x576 with 1 Axes>"
      ]
     },
     "metadata": {},
     "output_type": "display_data"
    }
   ],
   "source": [
    "sns.histplot(df_telecom['MonthlyCharges'])\n",
    "plt.title('Распределение значений месячных трат (MonthlyCharges)')\n",
    "plt.xlabel('Месячные траты')\n",
    "plt.ylabel('Частота появления в датасете');"
   ]
  },
  {
   "cell_type": "markdown",
   "id": "4328f965",
   "metadata": {},
   "source": [
    "По распределению значений месячных трат выделяются три основные группы клиентов:\n",
    "\n",
    "- с месячными тратами со значениями 20-30;\n",
    "- с месячными тратами со значениями 30-70;\n",
    "- с месячными тратами со значениями 70-120.\n",
    "\n",
    "Проведем группировку:"
   ]
  },
  {
   "cell_type": "code",
   "execution_count": 35,
   "id": "c45190b3",
   "metadata": {},
   "outputs": [],
   "source": [
    "df_telecom['MonthlyChargesGroup'] = pd.qcut(df_telecom['MonthlyCharges'], 3, labels=[0, 1, 2])"
   ]
  },
  {
   "cell_type": "code",
   "execution_count": 36,
   "id": "10e7e4c8",
   "metadata": {},
   "outputs": [
    {
     "data": {
      "text/plain": [
       "0    0.342326\n",
       "2    0.333097\n",
       "1    0.324578\n",
       "Name: MonthlyChargesGroup, dtype: float64"
      ]
     },
     "execution_count": 36,
     "metadata": {},
     "output_type": "execute_result"
    }
   ],
   "source": [
    "df_telecom['MonthlyChargesGroup'].value_counts(normalize=True)"
   ]
  },
  {
   "cell_type": "markdown",
   "id": "aea3fc38",
   "metadata": {},
   "source": [
    "В каждой из групп практически равная доля клиентов."
   ]
  },
  {
   "cell_type": "markdown",
   "id": "15ec1bb2",
   "metadata": {},
   "source": [
    "Выделим целевой признак:"
   ]
  },
  {
   "cell_type": "code",
   "execution_count": 37,
   "id": "a78821e1",
   "metadata": {},
   "outputs": [],
   "source": [
    "df_telecom['escape_client'] = (df_telecom['EndDate'] != \"2020-02-01\") * 1"
   ]
  },
  {
   "cell_type": "markdown",
   "id": "c88a9081",
   "metadata": {},
   "source": [
    "Проверим баланс классов целевого признака:"
   ]
  },
  {
   "cell_type": "code",
   "execution_count": 38,
   "id": "94dcf492",
   "metadata": {
    "scrolled": true
   },
   "outputs": [
    {
     "data": {
      "text/plain": [
       "0    0.73463\n",
       "1    0.26537\n",
       "Name: escape_client, dtype: float64"
      ]
     },
     "execution_count": 38,
     "metadata": {},
     "output_type": "execute_result"
    }
   ],
   "source": [
    "df_telecom['escape_client'].value_counts(normalize=True)"
   ]
  },
  {
   "cell_type": "markdown",
   "id": "a09741eb",
   "metadata": {},
   "source": [
    "Наблюдается дисбаланс классов целевого признака. Займемся этим вопросом позже."
   ]
  },
  {
   "cell_type": "markdown",
   "id": "1621c02a",
   "metadata": {},
   "source": [
    "Интересно также посмотреть как будут меняться статистиечские характеристики в созданных группах."
   ]
  },
  {
   "cell_type": "markdown",
   "id": "7ece274e",
   "metadata": {},
   "source": [
    "Запишем срез по каждой группе в соответствующий датафрейм:"
   ]
  },
  {
   "cell_type": "code",
   "execution_count": 39,
   "id": "2638630a",
   "metadata": {},
   "outputs": [],
   "source": [
    "df_group_0 = df_telecom.query('MonthlyChargesGroup == 0')\n",
    "df_group_1 = df_telecom.query('MonthlyChargesGroup == 1')\n",
    "df_group_2 = df_telecom.query('MonthlyChargesGroup == 2')"
   ]
  },
  {
   "cell_type": "markdown",
   "id": "9b2fb492",
   "metadata": {},
   "source": [
    "Так как большенство признаков бинарные, нас интересует только среднее. Запишем среднее по каждой группе в датафрейм-сводник:"
   ]
  },
  {
   "cell_type": "code",
   "execution_count": 40,
   "id": "9c5e99dd",
   "metadata": {},
   "outputs": [],
   "source": [
    "stats_pivot_on_groups = pd.DataFrame()\n",
    "stats_pivot_on_groups['group_0'] = df_group_0.describe().T['mean']\n",
    "stats_pivot_on_groups['group_1'] = df_group_1.describe().T['mean']\n",
    "stats_pivot_on_groups['group_2'] = df_group_2.describe().T['mean']"
   ]
  },
  {
   "cell_type": "markdown",
   "id": "59f18e37",
   "metadata": {},
   "source": [
    "Посмотрим датафрейм:"
   ]
  },
  {
   "cell_type": "code",
   "execution_count": 41,
   "id": "327ebe69",
   "metadata": {},
   "outputs": [
    {
     "data": {
      "text/html": [
       "<div>\n",
       "<style scoped>\n",
       "    .dataframe tbody tr th:only-of-type {\n",
       "        vertical-align: middle;\n",
       "    }\n",
       "\n",
       "    .dataframe tbody tr th {\n",
       "        vertical-align: top;\n",
       "    }\n",
       "\n",
       "    .dataframe thead th {\n",
       "        text-align: right;\n",
       "    }\n",
       "</style>\n",
       "<table border=\"1\" class=\"dataframe\">\n",
       "  <thead>\n",
       "    <tr style=\"text-align: right;\">\n",
       "      <th></th>\n",
       "      <th>group_0</th>\n",
       "      <th>group_1</th>\n",
       "      <th>group_2</th>\n",
       "    </tr>\n",
       "  </thead>\n",
       "  <tbody>\n",
       "    <tr>\n",
       "      <th>PaperlessBilling</th>\n",
       "      <td>0.388221</td>\n",
       "      <td>0.628609</td>\n",
       "      <td>0.766411</td>\n",
       "    </tr>\n",
       "    <tr>\n",
       "      <th>MonthlyCharges</th>\n",
       "      <td>28.085856</td>\n",
       "      <td>69.052056</td>\n",
       "      <td>96.874680</td>\n",
       "    </tr>\n",
       "    <tr>\n",
       "      <th>TotalCharges</th>\n",
       "      <td>721.800912</td>\n",
       "      <td>1979.614173</td>\n",
       "      <td>4171.868713</td>\n",
       "    </tr>\n",
       "    <tr>\n",
       "      <th>MultipleLines</th>\n",
       "      <td>0.156781</td>\n",
       "      <td>0.371391</td>\n",
       "      <td>0.743393</td>\n",
       "    </tr>\n",
       "    <tr>\n",
       "      <th>SeniorCitizen</th>\n",
       "      <td>0.070095</td>\n",
       "      <td>0.163605</td>\n",
       "      <td>0.255328</td>\n",
       "    </tr>\n",
       "    <tr>\n",
       "      <th>Partner</th>\n",
       "      <td>0.431771</td>\n",
       "      <td>0.451444</td>\n",
       "      <td>0.566496</td>\n",
       "    </tr>\n",
       "    <tr>\n",
       "      <th>Dependents</th>\n",
       "      <td>0.359187</td>\n",
       "      <td>0.281277</td>\n",
       "      <td>0.256181</td>\n",
       "    </tr>\n",
       "    <tr>\n",
       "      <th>OnlineSecurity</th>\n",
       "      <td>0.098714</td>\n",
       "      <td>0.388889</td>\n",
       "      <td>0.380222</td>\n",
       "    </tr>\n",
       "    <tr>\n",
       "      <th>OnlineBackup</th>\n",
       "      <td>0.090419</td>\n",
       "      <td>0.391076</td>\n",
       "      <td>0.561381</td>\n",
       "    </tr>\n",
       "    <tr>\n",
       "      <th>DeviceProtection</th>\n",
       "      <td>0.081294</td>\n",
       "      <td>0.362205</td>\n",
       "      <td>0.595908</td>\n",
       "    </tr>\n",
       "    <tr>\n",
       "      <th>TechSupport</th>\n",
       "      <td>0.088760</td>\n",
       "      <td>0.373141</td>\n",
       "      <td>0.416454</td>\n",
       "    </tr>\n",
       "    <tr>\n",
       "      <th>StreamingTV</th>\n",
       "      <td>0.057652</td>\n",
       "      <td>0.317585</td>\n",
       "      <td>0.785166</td>\n",
       "    </tr>\n",
       "    <tr>\n",
       "      <th>StreamingMovies</th>\n",
       "      <td>0.063459</td>\n",
       "      <td>0.319773</td>\n",
       "      <td>0.787724</td>\n",
       "    </tr>\n",
       "    <tr>\n",
       "      <th>is_male</th>\n",
       "      <td>0.516383</td>\n",
       "      <td>0.496063</td>\n",
       "      <td>0.501279</td>\n",
       "    </tr>\n",
       "    <tr>\n",
       "      <th>is_DSL_service</th>\n",
       "      <td>0.367068</td>\n",
       "      <td>0.594488</td>\n",
       "      <td>0.075448</td>\n",
       "    </tr>\n",
       "    <tr>\n",
       "      <th>escape_client</th>\n",
       "      <td>0.163832</td>\n",
       "      <td>0.295276</td>\n",
       "      <td>0.340580</td>\n",
       "    </tr>\n",
       "  </tbody>\n",
       "</table>\n",
       "</div>"
      ],
      "text/plain": [
       "                     group_0      group_1      group_2\n",
       "PaperlessBilling    0.388221     0.628609     0.766411\n",
       "MonthlyCharges     28.085856    69.052056    96.874680\n",
       "TotalCharges      721.800912  1979.614173  4171.868713\n",
       "MultipleLines       0.156781     0.371391     0.743393\n",
       "SeniorCitizen       0.070095     0.163605     0.255328\n",
       "Partner             0.431771     0.451444     0.566496\n",
       "Dependents          0.359187     0.281277     0.256181\n",
       "OnlineSecurity      0.098714     0.388889     0.380222\n",
       "OnlineBackup        0.090419     0.391076     0.561381\n",
       "DeviceProtection    0.081294     0.362205     0.595908\n",
       "TechSupport         0.088760     0.373141     0.416454\n",
       "StreamingTV         0.057652     0.317585     0.785166\n",
       "StreamingMovies     0.063459     0.319773     0.787724\n",
       "is_male             0.516383     0.496063     0.501279\n",
       "is_DSL_service      0.367068     0.594488     0.075448\n",
       "escape_client       0.163832     0.295276     0.340580"
      ]
     },
     "execution_count": 41,
     "metadata": {},
     "output_type": "execute_result"
    }
   ],
   "source": [
    "stats_pivot_on_groups"
   ]
  },
  {
   "cell_type": "markdown",
   "id": "d6f642b2",
   "metadata": {},
   "source": [
    "Из таблицы видно, что клиенты третей группы больше пользуются услугами. Первая группа практически вообще не пользуется дополнительными услугами (доля не превшает 10%)\n",
    "\n",
    "Примечательно, что:\n",
    "\n",
    "- доля пользователей, использующих безналичный расчет растет от 38% в первой группе, до 62% во второй группе, и до 76% в третьей группе;\n",
    "\n",
    "- среди третьей группы больше пенсионеров (7% первая группа, 16% - вторая группа, 25% - третья группа);\n",
    "\n",
    "- в третей группе больше клиентов, состоящих в браке (43% первая группа, 45% - вторая группа, 57% - третья группа);\n",
    "\n",
    "- иждевенцев, наоборот, больше в первой группе - 36%, во второй группе 28%, в третьей 26%;\n",
    "\n",
    "- среди третьей группы только 7% пользователей продолжают использовать интернет соединение через через телефонную линию, во второй группе это значение вырастает до 59%, в третьей 38%;\n",
    "\n",
    "- отток клиентов самый большой в третьей группе - 34%, во второй группе 29%, в первой 16%."
   ]
  },
  {
   "cell_type": "markdown",
   "id": "e7c62d0f",
   "metadata": {},
   "source": [
    "Построим распределение значений суммарных трат:"
   ]
  },
  {
   "cell_type": "code",
   "execution_count": 42,
   "id": "6115917d",
   "metadata": {},
   "outputs": [
    {
     "data": {
      "image/png": "[encoded data removed]",
      "text/plain": [
       "<Figure size 1440x576 with 1 Axes>"
      ]
     },
     "metadata": {},
     "output_type": "display_data"
    }
   ],
   "source": [
    "sns.histplot(df_telecom['TotalCharges'])\n",
    "plt.title('Распределение значений суммарных трат (TotalCharges)')\n",
    "plt.xlabel('Суммарные траты')\n",
    "plt.ylabel('Частота появления в датасете');"
   ]
  },
  {
   "cell_type": "markdown",
   "id": "92f220d9",
   "metadata": {},
   "source": [
    "Распределение суммарных трат напоминает логнормальное распределение. Там есть неявные пропуски, попробуем выяснить их природу:"
   ]
  },
  {
   "cell_type": "code",
   "execution_count": 43,
   "id": "13dae8d0",
   "metadata": {},
   "outputs": [
    {
     "data": {
      "text/html": [
       "<div>\n",
       "<style scoped>\n",
       "    .dataframe tbody tr th:only-of-type {\n",
       "        vertical-align: middle;\n",
       "    }\n",
       "\n",
       "    .dataframe tbody tr th {\n",
       "        vertical-align: top;\n",
       "    }\n",
       "\n",
       "    .dataframe thead th {\n",
       "        text-align: right;\n",
       "    }\n",
       "</style>\n",
       "<table border=\"1\" class=\"dataframe\">\n",
       "  <thead>\n",
       "    <tr style=\"text-align: right;\">\n",
       "      <th></th>\n",
       "      <th>BeginDate</th>\n",
       "      <th>EndDate</th>\n",
       "      <th>Type</th>\n",
       "      <th>PaperlessBilling</th>\n",
       "      <th>PaymentMethod</th>\n",
       "      <th>MonthlyCharges</th>\n",
       "      <th>TotalCharges</th>\n",
       "      <th>MultipleLines</th>\n",
       "      <th>SeniorCitizen</th>\n",
       "      <th>Partner</th>\n",
       "      <th>...</th>\n",
       "      <th>OnlineSecurity</th>\n",
       "      <th>OnlineBackup</th>\n",
       "      <th>DeviceProtection</th>\n",
       "      <th>TechSupport</th>\n",
       "      <th>StreamingTV</th>\n",
       "      <th>StreamingMovies</th>\n",
       "      <th>is_male</th>\n",
       "      <th>is_DSL_service</th>\n",
       "      <th>MonthlyChargesGroup</th>\n",
       "      <th>escape_client</th>\n",
       "    </tr>\n",
       "    <tr>\n",
       "      <th>customerID</th>\n",
       "      <th></th>\n",
       "      <th></th>\n",
       "      <th></th>\n",
       "      <th></th>\n",
       "      <th></th>\n",
       "      <th></th>\n",
       "      <th></th>\n",
       "      <th></th>\n",
       "      <th></th>\n",
       "      <th></th>\n",
       "      <th></th>\n",
       "      <th></th>\n",
       "      <th></th>\n",
       "      <th></th>\n",
       "      <th></th>\n",
       "      <th></th>\n",
       "      <th></th>\n",
       "      <th></th>\n",
       "      <th></th>\n",
       "      <th></th>\n",
       "      <th></th>\n",
       "    </tr>\n",
       "  </thead>\n",
       "  <tbody>\n",
       "    <tr>\n",
       "      <th>4472-LVYGI</th>\n",
       "      <td>2020-02-01</td>\n",
       "      <td>2020-02-01</td>\n",
       "      <td>Two year</td>\n",
       "      <td>1</td>\n",
       "      <td>Bank transfer (automatic)</td>\n",
       "      <td>52</td>\n",
       "      <td>0</td>\n",
       "      <td>0</td>\n",
       "      <td>0</td>\n",
       "      <td>1</td>\n",
       "      <td>...</td>\n",
       "      <td>1</td>\n",
       "      <td>0</td>\n",
       "      <td>1</td>\n",
       "      <td>1</td>\n",
       "      <td>1</td>\n",
       "      <td>0</td>\n",
       "      <td>0</td>\n",
       "      <td>1</td>\n",
       "      <td>1</td>\n",
       "      <td>0</td>\n",
       "    </tr>\n",
       "    <tr>\n",
       "      <th>3115-CZMZD</th>\n",
       "      <td>2020-02-01</td>\n",
       "      <td>2020-02-01</td>\n",
       "      <td>Two year</td>\n",
       "      <td>0</td>\n",
       "      <td>Mailed check</td>\n",
       "      <td>20</td>\n",
       "      <td>0</td>\n",
       "      <td>0</td>\n",
       "      <td>0</td>\n",
       "      <td>0</td>\n",
       "      <td>...</td>\n",
       "      <td>0</td>\n",
       "      <td>0</td>\n",
       "      <td>0</td>\n",
       "      <td>0</td>\n",
       "      <td>0</td>\n",
       "      <td>0</td>\n",
       "      <td>1</td>\n",
       "      <td>0</td>\n",
       "      <td>0</td>\n",
       "      <td>0</td>\n",
       "    </tr>\n",
       "    <tr>\n",
       "      <th>5709-LVOEQ</th>\n",
       "      <td>2020-02-01</td>\n",
       "      <td>2020-02-01</td>\n",
       "      <td>Two year</td>\n",
       "      <td>0</td>\n",
       "      <td>Mailed check</td>\n",
       "      <td>80</td>\n",
       "      <td>0</td>\n",
       "      <td>0</td>\n",
       "      <td>0</td>\n",
       "      <td>1</td>\n",
       "      <td>...</td>\n",
       "      <td>1</td>\n",
       "      <td>1</td>\n",
       "      <td>1</td>\n",
       "      <td>0</td>\n",
       "      <td>1</td>\n",
       "      <td>1</td>\n",
       "      <td>0</td>\n",
       "      <td>1</td>\n",
       "      <td>1</td>\n",
       "      <td>0</td>\n",
       "    </tr>\n",
       "    <tr>\n",
       "      <th>4367-NUYAO</th>\n",
       "      <td>2020-02-01</td>\n",
       "      <td>2020-02-01</td>\n",
       "      <td>Two year</td>\n",
       "      <td>0</td>\n",
       "      <td>Mailed check</td>\n",
       "      <td>25</td>\n",
       "      <td>0</td>\n",
       "      <td>1</td>\n",
       "      <td>0</td>\n",
       "      <td>1</td>\n",
       "      <td>...</td>\n",
       "      <td>0</td>\n",
       "      <td>0</td>\n",
       "      <td>0</td>\n",
       "      <td>0</td>\n",
       "      <td>0</td>\n",
       "      <td>0</td>\n",
       "      <td>1</td>\n",
       "      <td>0</td>\n",
       "      <td>0</td>\n",
       "      <td>0</td>\n",
       "    </tr>\n",
       "    <tr>\n",
       "      <th>1371-DWPAZ</th>\n",
       "      <td>2020-02-01</td>\n",
       "      <td>2020-02-01</td>\n",
       "      <td>Two year</td>\n",
       "      <td>0</td>\n",
       "      <td>Credit card (automatic)</td>\n",
       "      <td>56</td>\n",
       "      <td>0</td>\n",
       "      <td>0</td>\n",
       "      <td>0</td>\n",
       "      <td>1</td>\n",
       "      <td>...</td>\n",
       "      <td>1</td>\n",
       "      <td>1</td>\n",
       "      <td>1</td>\n",
       "      <td>1</td>\n",
       "      <td>1</td>\n",
       "      <td>0</td>\n",
       "      <td>0</td>\n",
       "      <td>1</td>\n",
       "      <td>1</td>\n",
       "      <td>0</td>\n",
       "    </tr>\n",
       "    <tr>\n",
       "      <th>7644-OMVMY</th>\n",
       "      <td>2020-02-01</td>\n",
       "      <td>2020-02-01</td>\n",
       "      <td>Two year</td>\n",
       "      <td>0</td>\n",
       "      <td>Mailed check</td>\n",
       "      <td>19</td>\n",
       "      <td>0</td>\n",
       "      <td>0</td>\n",
       "      <td>0</td>\n",
       "      <td>1</td>\n",
       "      <td>...</td>\n",
       "      <td>0</td>\n",
       "      <td>0</td>\n",
       "      <td>0</td>\n",
       "      <td>0</td>\n",
       "      <td>0</td>\n",
       "      <td>0</td>\n",
       "      <td>1</td>\n",
       "      <td>0</td>\n",
       "      <td>0</td>\n",
       "      <td>0</td>\n",
       "    </tr>\n",
       "    <tr>\n",
       "      <th>3213-VVOLG</th>\n",
       "      <td>2020-02-01</td>\n",
       "      <td>2020-02-01</td>\n",
       "      <td>Two year</td>\n",
       "      <td>0</td>\n",
       "      <td>Mailed check</td>\n",
       "      <td>25</td>\n",
       "      <td>0</td>\n",
       "      <td>1</td>\n",
       "      <td>0</td>\n",
       "      <td>1</td>\n",
       "      <td>...</td>\n",
       "      <td>0</td>\n",
       "      <td>0</td>\n",
       "      <td>0</td>\n",
       "      <td>0</td>\n",
       "      <td>0</td>\n",
       "      <td>0</td>\n",
       "      <td>1</td>\n",
       "      <td>0</td>\n",
       "      <td>0</td>\n",
       "      <td>0</td>\n",
       "    </tr>\n",
       "    <tr>\n",
       "      <th>2520-SGTTA</th>\n",
       "      <td>2020-02-01</td>\n",
       "      <td>2020-02-01</td>\n",
       "      <td>Two year</td>\n",
       "      <td>0</td>\n",
       "      <td>Mailed check</td>\n",
       "      <td>20</td>\n",
       "      <td>0</td>\n",
       "      <td>0</td>\n",
       "      <td>0</td>\n",
       "      <td>1</td>\n",
       "      <td>...</td>\n",
       "      <td>0</td>\n",
       "      <td>0</td>\n",
       "      <td>0</td>\n",
       "      <td>0</td>\n",
       "      <td>0</td>\n",
       "      <td>0</td>\n",
       "      <td>0</td>\n",
       "      <td>0</td>\n",
       "      <td>0</td>\n",
       "      <td>0</td>\n",
       "    </tr>\n",
       "    <tr>\n",
       "      <th>2923-ARZLG</th>\n",
       "      <td>2020-02-01</td>\n",
       "      <td>2020-02-01</td>\n",
       "      <td>One year</td>\n",
       "      <td>1</td>\n",
       "      <td>Mailed check</td>\n",
       "      <td>19</td>\n",
       "      <td>0</td>\n",
       "      <td>0</td>\n",
       "      <td>0</td>\n",
       "      <td>1</td>\n",
       "      <td>...</td>\n",
       "      <td>0</td>\n",
       "      <td>0</td>\n",
       "      <td>0</td>\n",
       "      <td>0</td>\n",
       "      <td>0</td>\n",
       "      <td>0</td>\n",
       "      <td>1</td>\n",
       "      <td>0</td>\n",
       "      <td>0</td>\n",
       "      <td>0</td>\n",
       "    </tr>\n",
       "    <tr>\n",
       "      <th>4075-WKNIU</th>\n",
       "      <td>2020-02-01</td>\n",
       "      <td>2020-02-01</td>\n",
       "      <td>Two year</td>\n",
       "      <td>0</td>\n",
       "      <td>Mailed check</td>\n",
       "      <td>73</td>\n",
       "      <td>0</td>\n",
       "      <td>1</td>\n",
       "      <td>0</td>\n",
       "      <td>1</td>\n",
       "      <td>...</td>\n",
       "      <td>0</td>\n",
       "      <td>1</td>\n",
       "      <td>1</td>\n",
       "      <td>1</td>\n",
       "      <td>1</td>\n",
       "      <td>0</td>\n",
       "      <td>0</td>\n",
       "      <td>1</td>\n",
       "      <td>1</td>\n",
       "      <td>0</td>\n",
       "    </tr>\n",
       "    <tr>\n",
       "      <th>2775-SEFEE</th>\n",
       "      <td>2020-02-01</td>\n",
       "      <td>2020-02-01</td>\n",
       "      <td>Two year</td>\n",
       "      <td>1</td>\n",
       "      <td>Bank transfer (automatic)</td>\n",
       "      <td>61</td>\n",
       "      <td>0</td>\n",
       "      <td>1</td>\n",
       "      <td>0</td>\n",
       "      <td>0</td>\n",
       "      <td>...</td>\n",
       "      <td>1</td>\n",
       "      <td>1</td>\n",
       "      <td>0</td>\n",
       "      <td>1</td>\n",
       "      <td>0</td>\n",
       "      <td>0</td>\n",
       "      <td>1</td>\n",
       "      <td>1</td>\n",
       "      <td>1</td>\n",
       "      <td>0</td>\n",
       "    </tr>\n",
       "  </tbody>\n",
       "</table>\n",
       "<p>11 rows × 21 columns</p>\n",
       "</div>"
      ],
      "text/plain": [
       "            BeginDate    EndDate      Type  PaperlessBilling  \\\n",
       "customerID                                                     \n",
       "4472-LVYGI 2020-02-01 2020-02-01  Two year                 1   \n",
       "3115-CZMZD 2020-02-01 2020-02-01  Two year                 0   \n",
       "5709-LVOEQ 2020-02-01 2020-02-01  Two year                 0   \n",
       "4367-NUYAO 2020-02-01 2020-02-01  Two year                 0   \n",
       "1371-DWPAZ 2020-02-01 2020-02-01  Two year                 0   \n",
       "7644-OMVMY 2020-02-01 2020-02-01  Two year                 0   \n",
       "3213-VVOLG 2020-02-01 2020-02-01  Two year                 0   \n",
       "2520-SGTTA 2020-02-01 2020-02-01  Two year                 0   \n",
       "2923-ARZLG 2020-02-01 2020-02-01  One year                 1   \n",
       "4075-WKNIU 2020-02-01 2020-02-01  Two year                 0   \n",
       "2775-SEFEE 2020-02-01 2020-02-01  Two year                 1   \n",
       "\n",
       "                        PaymentMethod  MonthlyCharges  TotalCharges  \\\n",
       "customerID                                                            \n",
       "4472-LVYGI  Bank transfer (automatic)              52             0   \n",
       "3115-CZMZD               Mailed check              20             0   \n",
       "5709-LVOEQ               Mailed check              80             0   \n",
       "4367-NUYAO               Mailed check              25             0   \n",
       "1371-DWPAZ    Credit card (automatic)              56             0   \n",
       "7644-OMVMY               Mailed check              19             0   \n",
       "3213-VVOLG               Mailed check              25             0   \n",
       "2520-SGTTA               Mailed check              20             0   \n",
       "2923-ARZLG               Mailed check              19             0   \n",
       "4075-WKNIU               Mailed check              73             0   \n",
       "2775-SEFEE  Bank transfer (automatic)              61             0   \n",
       "\n",
       "            MultipleLines  SeniorCitizen  Partner  ...  OnlineSecurity  \\\n",
       "customerID                                         ...                   \n",
       "4472-LVYGI              0              0        1  ...               1   \n",
       "3115-CZMZD              0              0        0  ...               0   \n",
       "5709-LVOEQ              0              0        1  ...               1   \n",
       "4367-NUYAO              1              0        1  ...               0   \n",
       "1371-DWPAZ              0              0        1  ...               1   \n",
       "7644-OMVMY              0              0        1  ...               0   \n",
       "3213-VVOLG              1              0        1  ...               0   \n",
       "2520-SGTTA              0              0        1  ...               0   \n",
       "2923-ARZLG              0              0        1  ...               0   \n",
       "4075-WKNIU              1              0        1  ...               0   \n",
       "2775-SEFEE              1              0        0  ...               1   \n",
       "\n",
       "            OnlineBackup  DeviceProtection  TechSupport  StreamingTV  \\\n",
       "customerID                                                             \n",
       "4472-LVYGI             0                 1            1            1   \n",
       "3115-CZMZD             0                 0            0            0   \n",
       "5709-LVOEQ             1                 1            0            1   \n",
       "4367-NUYAO             0                 0            0            0   \n",
       "1371-DWPAZ             1                 1            1            1   \n",
       "7644-OMVMY             0                 0            0            0   \n",
       "3213-VVOLG             0                 0            0            0   \n",
       "2520-SGTTA             0                 0            0            0   \n",
       "2923-ARZLG             0                 0            0            0   \n",
       "4075-WKNIU             1                 1            1            1   \n",
       "2775-SEFEE             1                 0            1            0   \n",
       "\n",
       "            StreamingMovies  is_male  is_DSL_service  MonthlyChargesGroup  \\\n",
       "customerID                                                                  \n",
       "4472-LVYGI                0        0               1                    1   \n",
       "3115-CZMZD                0        1               0                    0   \n",
       "5709-LVOEQ                1        0               1                    1   \n",
       "4367-NUYAO                0        1               0                    0   \n",
       "1371-DWPAZ                0        0               1                    1   \n",
       "7644-OMVMY                0        1               0                    0   \n",
       "3213-VVOLG                0        1               0                    0   \n",
       "2520-SGTTA                0        0               0                    0   \n",
       "2923-ARZLG                0        1               0                    0   \n",
       "4075-WKNIU                0        0               1                    1   \n",
       "2775-SEFEE                0        1               1                    1   \n",
       "\n",
       "           escape_client  \n",
       "customerID                \n",
       "4472-LVYGI             0  \n",
       "3115-CZMZD             0  \n",
       "5709-LVOEQ             0  \n",
       "4367-NUYAO             0  \n",
       "1371-DWPAZ             0  \n",
       "7644-OMVMY             0  \n",
       "3213-VVOLG             0  \n",
       "2520-SGTTA             0  \n",
       "2923-ARZLG             0  \n",
       "4075-WKNIU             0  \n",
       "2775-SEFEE             0  \n",
       "\n",
       "[11 rows x 21 columns]"
      ]
     },
     "execution_count": 43,
     "metadata": {},
     "output_type": "execute_result"
    }
   ],
   "source": [
    "df_telecom.query('TotalCharges == 0')"
   ]
  },
  {
   "cell_type": "markdown",
   "id": "067e16fa",
   "metadata": {},
   "source": [
    "Это клиенты, начавшие пользоваться услугами в феврале 2020 года, в этом случае суммарные траты равны месячным (дата актуальности датасета - *2020-02-01*):"
   ]
  },
  {
   "cell_type": "code",
   "execution_count": 44,
   "id": "a090363d",
   "metadata": {},
   "outputs": [],
   "source": [
    "df_telecom.loc[df_telecom['TotalCharges'] == 0, 'TotalCharges'] = df_telecom['MonthlyCharges']"
   ]
  },
  {
   "cell_type": "markdown",
   "id": "4c4a9887",
   "metadata": {},
   "source": [
    "Так как неявных пропусков было достаточно мало, искать изменения распределения значений бессмысленно, поэтому строить его еще раз не будем."
   ]
  },
  {
   "cell_type": "markdown",
   "id": "ca59b499",
   "metadata": {},
   "source": [
    "Изучим подробнее дату регистрации клиентов:"
   ]
  },
  {
   "cell_type": "code",
   "execution_count": 45,
   "id": "bc5e5061",
   "metadata": {},
   "outputs": [
    {
     "data": {
      "image/png": "[encoded data removed]",
      "text/plain": [
       "<Figure size 1440x576 with 1 Axes>"
      ]
     },
     "metadata": {},
     "output_type": "display_data"
    }
   ],
   "source": [
    "sns.histplot(df_telecom['BeginDate'])\n",
    "plt.title('Распределение фактов регистрации клиентов во времени (BeginDate)')\n",
    "plt.xlabel('Дата')\n",
    "plt.ylabel('Частота появления в датасете');"
   ]
  },
  {
   "cell_type": "markdown",
   "id": "13c91f47",
   "metadata": {},
   "source": [
    "Наблюдается пик в начале 2014 года, что связано с началом работы компании. С начала 2015 по конец 2018 года - величина вновь привлеченных клиентов стабильна. Далее с начала 2019 по начало 2020 года снова наблюдаем бурный рост количества новых клиентов."
   ]
  },
  {
   "cell_type": "markdown",
   "id": "602ae20c",
   "metadata": {},
   "source": [
    "Посмотрим распределение оттока клиентов во времени:"
   ]
  },
  {
   "cell_type": "code",
   "execution_count": 46,
   "id": "3da0b22d",
   "metadata": {},
   "outputs": [
    {
     "data": {
      "image/png": "[encoded data removed]",
      "text/plain": [
       "<Figure size 1440x576 with 1 Axes>"
      ]
     },
     "metadata": {},
     "output_type": "display_data"
    }
   ],
   "source": [
    "sns.histplot(df_telecom.query('EndDate != \"2020-02-01\"')['EndDate'])\n",
    "plt.title('Распределение оттока клиентов во времени (EndDate)')\n",
    "plt.xlabel('Дата')\n",
    "plt.ylabel('Частота появления в датасете');"
   ]
  },
  {
   "cell_type": "markdown",
   "id": "cf12110d",
   "metadata": {},
   "source": [
    "Примечательно, что дни оттока выглядят достаточно дискретными. Посмотрим уникальные значения поля:"
   ]
  },
  {
   "cell_type": "code",
   "execution_count": 47,
   "id": "9dc11eca",
   "metadata": {},
   "outputs": [
    {
     "data": {
      "text/plain": [
       "2019-11-01    485\n",
       "2019-12-01    466\n",
       "2020-01-01    460\n",
       "2019-10-01    458\n",
       "Name: EndDate, dtype: int64"
      ]
     },
     "execution_count": 47,
     "metadata": {},
     "output_type": "execute_result"
    }
   ],
   "source": [
    "df_telecom.query('EndDate != \"2020-02-01\"')['EndDate'].value_counts()"
   ]
  },
  {
   "cell_type": "markdown",
   "id": "af563883",
   "metadata": {},
   "source": [
    "Только в эти четыре дня происходил отток клиентов, причем распределение практически равномерное. Так как это первое число каждого месяца с октября 2019 по январь 2020, можно предположить что если договор расторгается, то его окончание начинается со следующего отчетного месяца."
   ]
  },
  {
   "cell_type": "markdown",
   "id": "142975de",
   "metadata": {},
   "source": [
    "Таким образом на протяжении 4 месяцев подряд происходил равномерный отток клиентов."
   ]
  },
  {
   "cell_type": "markdown",
   "id": "6d21331c",
   "metadata": {},
   "source": [
    "Посмотрим как распредлены месячные траты оттекших и всех клиентов:"
   ]
  },
  {
   "cell_type": "code",
   "execution_count": 48,
   "id": "75d94aa9",
   "metadata": {},
   "outputs": [
    {
     "data": {
      "image/png": "[encoded data removed]",
      "text/plain": [
       "<Figure size 1440x576 with 1 Axes>"
      ]
     },
     "metadata": {},
     "output_type": "display_data"
    }
   ],
   "source": [
    "ax = sns.histplot(df_telecom.loc[df_telecom['escape_client'] == 1,'MonthlyCharges'], \n",
    "                  color='r', \n",
    "                  label='Оттекшие клиенты')\n",
    "sns.histplot(df_telecom['MonthlyCharges'],\n",
    "             ax=ax, \n",
    "             alpha=0.4, \n",
    "             label='Все клиенты')\n",
    "ax.legend()\n",
    "plt.title('Распределение значений ежемесячных трат (MonthlyCharges)')\n",
    "plt.xlabel('Ежемесячные траты')\n",
    "plt.ylabel('Частота появления в датасете');"
   ]
  },
  {
   "cell_type": "markdown",
   "id": "c7cd38ad",
   "metadata": {},
   "source": [
    "Среди оттекших клиентов есть представители каждой из выделенной ранее групп. Примечательно, что оттекшие клиенты пользовались в основном дорогими тарифами."
   ]
  },
  {
   "cell_type": "markdown",
   "id": "9c967429",
   "metadata": {},
   "source": [
    "Введем признак соответствующий длительности пользования клиентом услугами компании:"
   ]
  },
  {
   "cell_type": "code",
   "execution_count": 49,
   "id": "3d741aab",
   "metadata": {},
   "outputs": [],
   "source": [
    "df_telecom['TotalTime'] = (df_telecom['EndDate'] - df_telecom['BeginDate']).dt.days"
   ]
  },
  {
   "cell_type": "markdown",
   "id": "1657497a",
   "metadata": {},
   "source": [
    "Посмотрим сколько времени ушедшие клиенты пользовались услугами компании:"
   ]
  },
  {
   "cell_type": "code",
   "execution_count": 50,
   "id": "36f99487",
   "metadata": {},
   "outputs": [
    {
     "data": {
      "image/png": "[encoded data removed]",
      "text/plain": [
       "<Figure size 1440x576 with 1 Axes>"
      ]
     },
     "metadata": {},
     "output_type": "display_data"
    }
   ],
   "source": [
    "ax = sns.histplot(df_telecom.query('escape_client == 1')['TotalTime'],\n",
    "                  color='r', \n",
    "                  label='Оттекшие клиенты')\n",
    "sns.histplot(df_telecom['TotalTime'],\n",
    "             ax=ax, \n",
    "             alpha=0.4, \n",
    "             label='Все клиенты')\n",
    "ax.legend()\n",
    "plt.title('Распределение значений длительности использования услуг (TotalTime)')\n",
    "plt.xlabel('Длинтельность использования услуг, дней')\n",
    "plt.ylabel('Частота появления в датасете');"
   ]
  },
  {
   "cell_type": "code",
   "execution_count": 51,
   "id": "89826c6d",
   "metadata": {},
   "outputs": [
    {
     "data": {
      "text/plain": [
       "count    1869.000000\n",
       "mean      547.352060\n",
       "std       594.389607\n",
       "min        30.000000\n",
       "25%        61.000000\n",
       "50%       304.000000\n",
       "75%       883.000000\n",
       "max      2191.000000\n",
       "Name: TotalTime, dtype: float64"
      ]
     },
     "execution_count": 51,
     "metadata": {},
     "output_type": "execute_result"
    }
   ],
   "source": [
    "df_telecom.query('escape_client == 1')['TotalTime'].describe() "
   ]
  },
  {
   "cell_type": "code",
   "execution_count": 52,
   "id": "32fb9639",
   "metadata": {},
   "outputs": [
    {
     "data": {
      "text/plain": [
       "count    7043.000000\n",
       "mean      985.996166\n",
       "std       747.587844\n",
       "min         0.000000\n",
       "25%       273.000000\n",
       "50%       883.000000\n",
       "75%      1676.000000\n",
       "max      2191.000000\n",
       "Name: TotalTime, dtype: float64"
      ]
     },
     "execution_count": 52,
     "metadata": {},
     "output_type": "execute_result"
    }
   ],
   "source": [
    "df_telecom['TotalTime'].describe()"
   ]
  },
  {
   "cell_type": "markdown",
   "id": "0e5a7688",
   "metadata": {},
   "source": [
    "Средняя длительность пользования услугами у оттекших клиентов практически в два раза меньше, чем у тех, которые остались. "
   ]
  },
  {
   "cell_type": "markdown",
   "id": "0a41225c",
   "metadata": {},
   "source": [
    "### Вывод"
   ]
  },
  {
   "cell_type": "markdown",
   "id": "63ba02ce",
   "metadata": {},
   "source": [
    "Все выделенные задачи для предобработки данных выполнены:\n",
    "\n",
    "1. `BeginDate` – поле приведено к типу *datetime*;\n",
    "\n",
    "2. `EndDate` – для значений \"No\" установлена \"заглушка\", соответствующая дате актуальности датасета - *2020-02-01*), после чего поле было приведено к формату *datetime*;\n",
    "\n",
    "3. `MonthlyCharges` - поле приведено к целочисленному типу для экономии памяти (два знака после запятой - излишняя точность в значениях);\n",
    "\n",
    "4. `TotalCharges` - неявные пропуски (пустые значения) приведены в соответствие с полем суммарных трат, так как пропуски маркеруют клиентов, начавших пользоваться услагми компании в феврале 2020 года.\n",
    "\n",
    "После чего все датафреймы были объединены.\n",
    "\n",
    "Из статистических характеристик объедененного датафрейма можно выделить интересные особенности:\n",
    "\n",
    "- практически две трети пользователей предпочитают безналичный расчет;\n",
    "\n",
    "- среднее значение месячных трат практически совпадает с медианным значением, то есть имеет распределение с небольшим отрицательным смещением;\n",
    "\n",
    "- **распределение значений суммарных трат наоборот, сильное положительное смещение - медиана практически на 40% меньше среднего. Возможно это связано с наличием нулей - неявных пропусков. Это нужно выяснить далее**;\n",
    "\n",
    "- относительно демографии: 16% пенсионеров, 48% имеют супруга(у), у 29% клиентов имеются иждевенцы. Баланс классов гендера соблюдается;\n",
    "\n",
    "- 34% пользователей продолжают использовать интернет соединение через через телефонную линию, 42% пользователей имеют возможность использовать вторую линию во время звонка; \n",
    "\n",
    "- По услугам данные приведены в таблице:\n",
    "\n",
    "|Услуга| Доля пользователей услуги |  \n",
    "|------|---------------------------|\n",
    "|антивирус (DeviceProtection)| 34%|\n",
    "|блокировка небезопасных сайтов (OnlineSecurity)| 29%|\n",
    "|выделенная линия технической поддержки (TechSupport)| 29%|\n",
    "|облачное хранилище файлов для резервного копирования данных (OnlineBackup)|34%|\n",
    "|cтриминговое телевидение (StreamingTV)|38%|\n",
    "|каталог фильмов (StreamingMovies)|39%|\n",
    "\n",
    "По распределению значений месячных трат выделяются три основные группы клиентов:\n",
    "\n",
    "- с месячными тратами со значениями 20-30;\n",
    "- с месячными тратами со значениями 30-70;\n",
    "- с месячными тратами со значениями 70-120.\n",
    "\n",
    "Был выделен целевой признак, имеет место дисбаланс классов (74/26). На этапе подготовки данных для модели нужно решить эту проблему методом семплирования. Также можно использовать метрику устойчивую к дисбалансу классов (например *AUC-ROC*, *F1*);\n",
    "\n",
    "Данные были поделены на три группы для исследования их различий. Оказалось, что клиенты третей группы больше пользуются услугами. Первая группа практически вообще не пользуется дополнительными услугами (доля не превшает 10%)\n",
    "\n",
    "Также примечательно, что:\n",
    "\n",
    "- доля пользователей, использующих безналичный расчет растет от 38% в первой группе, до 62% во второй группе, и до 76% в третьей группе;\n",
    "\n",
    "- среди третьей группы больше пенсионеров (7% первая группа, 16% - вторая группа, 25% - третья группа);\n",
    "\n",
    "- в третей группе больше клиентов, состоящих в браке (43% первая группа, 45% - вторая группа, 57% - третья группа);\n",
    "\n",
    "- иждевенцев, наоборот, больше в первой группе - 36%, во второй группе 28%, в третьей 26%;\n",
    "\n",
    "- среди третьей группы только 7% пользователей продолжают использовать интернет соединение через через телефонную линию, во второй группе это значение вырастает до 59%, в третьей 38%;\n",
    "\n",
    "- отток клиентов самый большой в третьей группе - 34%, во второй группе 29%, в первой 16%.\n",
    "\n",
    "Было исследовано распределение даты регистрации клиентов во времени: наблюдается пик в начале 2014 года, что связано с началом работы компании. С начала 2015 по конец 2018 года - величина вновь привлеченных клиентов стабильна. Далее с начала 2019 по начало 2020 года снова наблюдаем бурный рост количества новых клиентов.\n",
    "\n",
    "На протяжении 4 месяцев подряд происходил равномерный отток клиентов (октябрь 2019 - январь 2020).\n",
    "\n",
    "Среди оттекших клиентов есть представители каждой из выделенной ранее групп. Примечательно, что оттекшие клиенты пользовались в основном дорогими тарифами.\n",
    "\n",
    "Средняя длительность пользования услугами у оттекших клиентов практически в два раза меньше, чем у тех, которые остались. \n",
    "\n",
    "Был сгенерирован признак - длительность использования услуг компании.\n",
    "\n",
    "Дополнительных вопросов к данным на данном этапе не возникло."
   ]
  },
  {
   "cell_type": "markdown",
   "id": "376ff8db",
   "metadata": {},
   "source": [
    "## Подготовка данных для модели"
   ]
  },
  {
   "cell_type": "markdown",
   "id": "f7aacbc9",
   "metadata": {},
   "source": [
    "Зафиксируем случайность для воспроизводимости результатов:"
   ]
  },
  {
   "cell_type": "code",
   "execution_count": 53,
   "id": "90e1544b",
   "metadata": {},
   "outputs": [],
   "source": [
    "SEED = 80822"
   ]
  },
  {
   "cell_type": "markdown",
   "id": "efa5e377",
   "metadata": {},
   "source": [
    "Удалим признаки с датой:"
   ]
  },
  {
   "cell_type": "code",
   "execution_count": 54,
   "id": "3b1df483",
   "metadata": {},
   "outputs": [],
   "source": [
    "df_telecom = df_telecom.drop(['BeginDate', 'EndDate'], axis=1)"
   ]
  },
  {
   "cell_type": "code",
   "execution_count": 55,
   "id": "2460bf03",
   "metadata": {},
   "outputs": [
    {
     "data": {
      "text/plain": [
       "(7043, 20)"
      ]
     },
     "execution_count": 55,
     "metadata": {},
     "output_type": "execute_result"
    }
   ],
   "source": [
    "df_telecom.shape"
   ]
  },
  {
   "cell_type": "markdown",
   "id": "c2dcdfbf",
   "metadata": {},
   "source": [
    "Закодируем два оставшихся признака прямым кодированием. В данном случае это самый рациональный метод кодирования, так как пространство признаков не большое, и число признаков увеличится всего на 4."
   ]
  },
  {
   "cell_type": "code",
   "execution_count": 56,
   "id": "06feb69b",
   "metadata": {},
   "outputs": [],
   "source": [
    "df = pd.get_dummies(df_telecom, drop_first=True)"
   ]
  },
  {
   "cell_type": "code",
   "execution_count": 57,
   "id": "66d885b5",
   "metadata": {},
   "outputs": [
    {
     "data": {
      "text/plain": [
       "(7043, 24)"
      ]
     },
     "execution_count": 57,
     "metadata": {},
     "output_type": "execute_result"
    }
   ],
   "source": [
    "df.shape"
   ]
  },
  {
   "cell_type": "markdown",
   "id": "f579683f",
   "metadata": {},
   "source": [
    "Посмотрим на тепловую карту матрицы парных корреляций признаков:"
   ]
  },
  {
   "cell_type": "code",
   "execution_count": 58,
   "id": "87d5de2c",
   "metadata": {},
   "outputs": [
    {
     "data": {
      "image/png": "[encoded data removed]",
      "text/plain": [
       "<Figure size 1080x1080 with 2 Axes>"
      ]
     },
     "metadata": {},
     "output_type": "display_data"
    }
   ],
   "source": [
    "corrMatrix = df.corr()\n",
    "plt.figure(figsize=(15, 15))\n",
    "sns.heatmap(corrMatrix, annot=False);"
   ]
  },
  {
   "cell_type": "markdown",
   "id": "063b8144",
   "metadata": {},
   "source": [
    "Сгенерированный признак длительности использования услуг компании очень сильно коррелирует с суммарными тратами (корреляции по бинарным признакам не оцениваем). Действительно, признаки дублируют друг друга по своей сути. Так как отношение ежемесячных трат и суммарных трат по сути и будет являтся длительностью использования услуг компании. Сделаем два варианта данных для моделей с ними и без них."
   ]
  },
  {
   "cell_type": "markdown",
   "id": "b177355e",
   "metadata": {},
   "source": [
    "Остальные признаки имеют умеренную и слабую корреляцию. Посмотрим на коэффициент инфляции диспресии:"
   ]
  },
  {
   "cell_type": "code",
   "execution_count": 59,
   "id": "fb889d28",
   "metadata": {},
   "outputs": [
    {
     "data": {
      "text/plain": [
       "PaperlessBilling                          2.939183\n",
       "MonthlyCharges                           41.063204\n",
       "TotalCharges                             17.341021\n",
       "MultipleLines                             2.670912\n",
       "SeniorCitizen                             1.371209\n",
       "Partner                                   2.819411\n",
       "Dependents                                1.959808\n",
       "OnlineSecurity                            2.180569\n",
       "OnlineBackup                              2.342027\n",
       "DeviceProtection                          2.421458\n",
       "TechSupport                               2.261035\n",
       "StreamingTV                               3.223822\n",
       "StreamingMovies                           3.262297\n",
       "is_male                                   1.971995\n",
       "is_DSL_service                            3.171590\n",
       "escape_client                             1.884632\n",
       "TotalTime                                15.598557\n",
       "Type_One year                             1.974671\n",
       "Type_Two year                             3.335466\n",
       "PaymentMethod_Credit card (automatic)     1.854389\n",
       "PaymentMethod_Electronic check            2.788757\n",
       "PaymentMethod_Mailed check                1.878120\n",
       "MonthlyChargesGroup_1                     6.640640\n",
       "MonthlyChargesGroup_2                    17.142822\n",
       "dtype: float64"
      ]
     },
     "execution_count": 59,
     "metadata": {},
     "output_type": "execute_result"
    }
   ],
   "source": [
    "pd.Series([variance_inflation_factor(df.values, i)for i in range(df.shape[1])],index=df.columns)"
   ]
  },
  {
   "cell_type": "markdown",
   "id": "42e195e4",
   "metadata": {},
   "source": [
    "Признаки соответствующие ежемесячным тратам, длительности использования услуг, и месячных трат по группам имееют очень большой коэффициент инфляции дисперсии. Можно попробовать построить модель с ними, и без них."
   ]
  },
  {
   "cell_type": "markdown",
   "id": "6a6edfa4",
   "metadata": {},
   "source": [
    "Запишем целевой признак:"
   ]
  },
  {
   "cell_type": "code",
   "execution_count": 60,
   "id": "ff2a583e",
   "metadata": {},
   "outputs": [],
   "source": [
    "target = df['escape_client']"
   ]
  },
  {
   "cell_type": "markdown",
   "id": "ffae5a8e",
   "metadata": {},
   "source": [
    "И остальные признаки:"
   ]
  },
  {
   "cell_type": "code",
   "execution_count": 61,
   "id": "988f5eb6",
   "metadata": {},
   "outputs": [],
   "source": [
    "features = df.drop('escape_client', axis=1)"
   ]
  },
  {
   "cell_type": "markdown",
   "id": "53e68b2c",
   "metadata": {},
   "source": [
    "Произведем деление на обучающую и отложенную выборку (возьмем соотношение 4:1):"
   ]
  },
  {
   "cell_type": "code",
   "execution_count": 62,
   "id": "9499db1d",
   "metadata": {},
   "outputs": [],
   "source": [
    "features_train, features_test, target_train, target_test = train_test_split(features, \n",
    "                                                                            target, \n",
    "                                                                            train_size=.8, \n",
    "                                                                            random_state=SEED,\n",
    "                                                                            stratify=target)"
   ]
  },
  {
   "cell_type": "code",
   "execution_count": 63,
   "id": "68df9cee",
   "metadata": {},
   "outputs": [
    {
     "data": {
      "text/plain": [
       "((5634, 23), (5634,), (1409, 23), (1409,))"
      ]
     },
     "execution_count": 63,
     "metadata": {},
     "output_type": "execute_result"
    }
   ],
   "source": [
    "features_train.shape, target_train.shape, features_test.shape, target_test.shape"
   ]
  },
  {
   "cell_type": "markdown",
   "id": "8a51e87a",
   "metadata": {},
   "source": [
    "Как условились выше, сделаем признаки с `MonthlyCharges`, `TotalTime` и без (групповой признак трогать не будем, скорее всего хватит удаления только этих признаков):"
   ]
  },
  {
   "cell_type": "code",
   "execution_count": 64,
   "id": "9ae97e91",
   "metadata": {},
   "outputs": [],
   "source": [
    "features_train_vif = features_train.drop(['MonthlyCharges', 'TotalTime'] , axis=1)\n",
    "features_test_vif = features_test.drop(['MonthlyCharges', 'TotalTime'], axis=1)"
   ]
  },
  {
   "cell_type": "markdown",
   "id": "d1d1a905",
   "metadata": {},
   "source": [
    "Проверим коэффициент инфляции дисперсии:"
   ]
  },
  {
   "cell_type": "code",
   "execution_count": 65,
   "id": "ce14218d",
   "metadata": {},
   "outputs": [
    {
     "data": {
      "text/plain": [
       "PaperlessBilling                         2.623520\n",
       "TotalCharges                             7.723758\n",
       "MultipleLines                            2.578945\n",
       "SeniorCitizen                            1.344351\n",
       "Partner                                  2.777447\n",
       "Dependents                               1.973230\n",
       "OnlineSecurity                           2.163290\n",
       "OnlineBackup                             2.291654\n",
       "DeviceProtection                         2.377747\n",
       "TechSupport                              2.184163\n",
       "StreamingTV                              3.177704\n",
       "StreamingMovies                          3.210414\n",
       "is_male                                  1.857837\n",
       "is_DSL_service                           3.049946\n",
       "Type_One year                            1.663897\n",
       "Type_Two year                            2.352590\n",
       "PaymentMethod_Credit card (automatic)    1.657214\n",
       "PaymentMethod_Electronic check           2.248473\n",
       "PaymentMethod_Mailed check               1.515370\n",
       "MonthlyChargesGroup_1                    2.883686\n",
       "MonthlyChargesGroup_2                    8.529615\n",
       "dtype: float64"
      ]
     },
     "execution_count": 65,
     "metadata": {},
     "output_type": "execute_result"
    }
   ],
   "source": [
    "pd.Series([variance_inflation_factor(features_train_vif.values, i)for i in range(features_train_vif.shape[1])],\n",
    "          index=features_train_vif.columns)"
   ]
  },
  {
   "cell_type": "markdown",
   "id": "b9450a12",
   "metadata": {},
   "source": [
    "Все коэффициенты в пределах допустимых значений."
   ]
  },
  {
   "cell_type": "code",
   "execution_count": 66,
   "id": "57c23807",
   "metadata": {},
   "outputs": [
    {
     "data": {
      "text/plain": [
       "((5634, 21), (5634,), (1409, 21), (1409,))"
      ]
     },
     "execution_count": 66,
     "metadata": {},
     "output_type": "execute_result"
    }
   ],
   "source": [
    "features_train_vif.shape, target_train.shape, features_test_vif.shape, target_test.shape"
   ]
  },
  {
   "cell_type": "code",
   "execution_count": 67,
   "id": "bb75697c",
   "metadata": {},
   "outputs": [
    {
     "data": {
      "text/plain": [
       "(0.2653532126375577, 0.2654364797728886)"
      ]
     },
     "execution_count": 67,
     "metadata": {},
     "output_type": "execute_result"
    }
   ],
   "source": [
    "target_train.mean(), target_test.mean()"
   ]
  },
  {
   "cell_type": "markdown",
   "id": "e0705cd1",
   "metadata": {},
   "source": [
    "Для борьбы с дисбалансом классов воспользуемся апсемплингом и подготовим третий вариант набора данных:"
   ]
  },
  {
   "cell_type": "code",
   "execution_count": 68,
   "id": "57430f21",
   "metadata": {},
   "outputs": [],
   "source": [
    "def upsample(features, target, repeat):\n",
    "    features_zeros = features[target == 0]\n",
    "    features_ones = features[target == 1]\n",
    "    target_zeros = target[target == 0]\n",
    "    target_ones = target[target == 1]\n",
    "\n",
    "    features_upsampled = pd.concat([features_zeros] + [features_ones] * repeat)\n",
    "    target_upsampled = pd.concat([target_zeros] + [target_ones] * repeat)\n",
    "    \n",
    "    features_upsampled, target_upsampled = shuffle(\n",
    "        features_upsampled, target_upsampled, random_state=SEED)\n",
    "    \n",
    "    return features_upsampled, target_upsampled"
   ]
  },
  {
   "cell_type": "code",
   "execution_count": 69,
   "id": "0e5c8b4d",
   "metadata": {},
   "outputs": [],
   "source": [
    "features_upsampled, target_upsampled = upsample(features_train, target_train, 3)"
   ]
  },
  {
   "cell_type": "code",
   "execution_count": 70,
   "id": "02c49dd2",
   "metadata": {},
   "outputs": [
    {
     "data": {
      "text/plain": [
       "0.5200602968460112"
      ]
     },
     "execution_count": 70,
     "metadata": {},
     "output_type": "execute_result"
    }
   ],
   "source": [
    "target_upsampled.mean()"
   ]
  },
  {
   "cell_type": "markdown",
   "id": "e3c983aa",
   "metadata": {},
   "source": [
    "Балансировку классов признаков без `MonthlyCharges` и `TotalTime` будем производить встроенными в модели методами. Данные готовы для моделирования."
   ]
  },
  {
   "cell_type": "markdown",
   "id": "81dde26b",
   "metadata": {},
   "source": [
    "## Разработка и отбор лучшей модели"
   ]
  },
  {
   "cell_type": "markdown",
   "id": "585a8e8f",
   "metadata": {},
   "source": [
    "Функция обучения моделей:"
   ]
  },
  {
   "cell_type": "code",
   "execution_count": 71,
   "id": "26fccd97",
   "metadata": {},
   "outputs": [],
   "source": [
    "# Функция обучения моделей с параметрами по умолчанию.\n",
    "# Аргументы: класс модели, обучающая выборка и (необязательно) режим использования сбалансированной развесовки классов.\n",
    "# Возвращает метрики на 5-х кратной кросс-валидации в формате Series.\n",
    "def train (model, features, target, SEED, notation, balanced_weights=False):\n",
    "    model_instance = None\n",
    "    class_weights = None\n",
    "    \n",
    "    # CatBoost не имеет режима class_weight='balanced', для него веса зададим вручную:\n",
    "    if balanced_weights == True:\n",
    "        if model == CatBoostClassifier:\n",
    "            class_weights = [1 - np.mean(target), np.mean(target)]\n",
    "        else:\n",
    "            class_weights = 'balanced'\n",
    "    \n",
    "    if model == LogisticRegression:\n",
    "        model_instance = model(random_state=SEED, solver='lbfgs', max_iter=1000, class_weight=class_weights)\n",
    "    elif model == RandomForestClassifier:\n",
    "        model_instance = model(random_state=SEED, n_estimators=100, class_weight=class_weights)\n",
    "    elif model == CatBoostClassifier:\n",
    "        model_instance = model(random_state=SEED, verbose=0, class_weights=class_weights)\n",
    "    else:\n",
    "        model_instance = model(random_state=SEED, class_weight=class_weights)\n",
    "\n",
    "\n",
    "    # Обучим модель:\n",
    "    model_instance.fit(features, target)\n",
    "        \n",
    "    # Вычислим интересующие нас метрики:\n",
    "    f1 = np.mean(cross_val_score(model_instance, features, target, cv=5, scoring=make_scorer(f1_score)))\n",
    "    roc_auc = np.mean(cross_val_score(model_instance, features, target, cv=5, scoring=make_scorer(roc_auc_score)))\n",
    "    \n",
    "    stat = pd.Series([type(model_instance).__name__ + notation, f1, roc_auc], index=['Model', 'F1', 'ROC_AUC'])\n",
    "    return stat, model_instance"
   ]
  },
  {
   "cell_type": "markdown",
   "id": "92d50616",
   "metadata": {},
   "source": [
    "Запишем список с классами моделей:"
   ]
  },
  {
   "cell_type": "code",
   "execution_count": 72,
   "id": "493eeafa",
   "metadata": {},
   "outputs": [],
   "source": [
    "model_list = [LogisticRegression, RandomForestClassifier, CatBoostClassifier]"
   ]
  },
  {
   "cell_type": "markdown",
   "id": "e1907d73",
   "metadata": {},
   "source": [
    "И создадим датафрейм со статистикой:"
   ]
  },
  {
   "cell_type": "code",
   "execution_count": 73,
   "id": "e99d5242",
   "metadata": {},
   "outputs": [],
   "source": [
    "stats = pd.DataFrame({'Model':[], 'F1':[], 'ROC_AUC':[]})"
   ]
  },
  {
   "cell_type": "markdown",
   "id": "66694b5f",
   "metadata": {},
   "source": [
    "Обучим модели на всех признаках (*raw*):"
   ]
  },
  {
   "cell_type": "code",
   "execution_count": 74,
   "id": "088daf5c",
   "metadata": {
    "scrolled": true
   },
   "outputs": [
    {
     "name": "stderr",
     "output_type": "stream",
     "text": [
      "100%|████████████████████████████████████████████████████████████████████████████████████| 3/3 [00:27<00:00,  9.16s/it]\n"
     ]
    }
   ],
   "source": [
    "model_instances = []\n",
    "for model in tqdm(model_list):\n",
    "    stat_row, model_instance = train (model, features_train, target_train, SEED, '_raw')\n",
    "    \n",
    "    new_index = len(stats.index)\n",
    "    stats.loc[new_index] = stat_row\n",
    "\n",
    "    model_instances.append(model_instance)"
   ]
  },
  {
   "cell_type": "code",
   "execution_count": 75,
   "id": "a718c4c9",
   "metadata": {},
   "outputs": [
    {
     "data": {
      "text/html": [
       "<div>\n",
       "<style scoped>\n",
       "    .dataframe tbody tr th:only-of-type {\n",
       "        vertical-align: middle;\n",
       "    }\n",
       "\n",
       "    .dataframe tbody tr th {\n",
       "        vertical-align: top;\n",
       "    }\n",
       "\n",
       "    .dataframe thead th {\n",
       "        text-align: right;\n",
       "    }\n",
       "</style>\n",
       "<table border=\"1\" class=\"dataframe\">\n",
       "  <thead>\n",
       "    <tr style=\"text-align: right;\">\n",
       "      <th></th>\n",
       "      <th>Model</th>\n",
       "      <th>F1</th>\n",
       "      <th>ROC_AUC</th>\n",
       "    </tr>\n",
       "  </thead>\n",
       "  <tbody>\n",
       "    <tr>\n",
       "      <th>0</th>\n",
       "      <td>LogisticRegression_raw</td>\n",
       "      <td>0.578345</td>\n",
       "      <td>0.709911</td>\n",
       "    </tr>\n",
       "    <tr>\n",
       "      <th>1</th>\n",
       "      <td>RandomForestClassifier_raw</td>\n",
       "      <td>0.589273</td>\n",
       "      <td>0.71594</td>\n",
       "    </tr>\n",
       "    <tr>\n",
       "      <th>2</th>\n",
       "      <td>CatBoostClassifier_raw</td>\n",
       "      <td>0.676685</td>\n",
       "      <td>0.76861</td>\n",
       "    </tr>\n",
       "  </tbody>\n",
       "</table>\n",
       "</div>"
      ],
      "text/plain": [
       "                        Model        F1   ROC_AUC\n",
       "0      LogisticRegression_raw  0.578345  0.709911\n",
       "1  RandomForestClassifier_raw  0.589273   0.71594\n",
       "2      CatBoostClassifier_raw  0.676685   0.76861"
      ]
     },
     "execution_count": 75,
     "metadata": {},
     "output_type": "execute_result"
    }
   ],
   "source": [
    "stats"
   ]
  },
  {
   "cell_type": "markdown",
   "id": "078ee4d6",
   "metadata": {},
   "source": [
    "Лучшей моделью является `CatBoostClassifier`, как по *F1*-мере, так и по *roc_auc* (0.67 и 0.77 на обучающей выборке с 5-х кратной кросс валидацией соответственно). Запишем ее для тестирования в следующем разделе:"
   ]
  },
  {
   "cell_type": "code",
   "execution_count": 84,
   "id": "b3308e8a",
   "metadata": {},
   "outputs": [],
   "source": [
    "best_model_raw = model_instances[2]"
   ]
  },
  {
   "cell_type": "markdown",
   "id": "e32489a0",
   "metadata": {},
   "source": [
    "Проделаем то же самое, но с балансировкой классов:"
   ]
  },
  {
   "cell_type": "code",
   "execution_count": 77,
   "id": "57c8a332",
   "metadata": {},
   "outputs": [
    {
     "name": "stderr",
     "output_type": "stream",
     "text": [
      "100%|████████████████████████████████████████████████████████████████████████████████████| 3/3 [00:27<00:00,  9.14s/it]\n"
     ]
    }
   ],
   "source": [
    "model_instances = []\n",
    "for model in tqdm(model_list):\n",
    "    stat_row, model_instance = train (model, features_train, target_train, SEED, '_raw_balanced', balanced_weights=True)\n",
    "    \n",
    "    new_index = len(stats.index)\n",
    "    stats.loc[new_index] = stat_row\n",
    "\n",
    "    model_instances.append(model_instance)"
   ]
  },
  {
   "cell_type": "code",
   "execution_count": 78,
   "id": "146288fe",
   "metadata": {},
   "outputs": [
    {
     "data": {
      "text/html": [
       "<div>\n",
       "<style scoped>\n",
       "    .dataframe tbody tr th:only-of-type {\n",
       "        vertical-align: middle;\n",
       "    }\n",
       "\n",
       "    .dataframe tbody tr th {\n",
       "        vertical-align: top;\n",
       "    }\n",
       "\n",
       "    .dataframe thead th {\n",
       "        text-align: right;\n",
       "    }\n",
       "</style>\n",
       "<table border=\"1\" class=\"dataframe\">\n",
       "  <thead>\n",
       "    <tr style=\"text-align: right;\">\n",
       "      <th></th>\n",
       "      <th>Model</th>\n",
       "      <th>F1</th>\n",
       "      <th>ROC_AUC</th>\n",
       "    </tr>\n",
       "  </thead>\n",
       "  <tbody>\n",
       "    <tr>\n",
       "      <th>0</th>\n",
       "      <td>LogisticRegression_raw</td>\n",
       "      <td>0.578345</td>\n",
       "      <td>0.709911</td>\n",
       "    </tr>\n",
       "    <tr>\n",
       "      <th>1</th>\n",
       "      <td>RandomForestClassifier_raw</td>\n",
       "      <td>0.589273</td>\n",
       "      <td>0.71594</td>\n",
       "    </tr>\n",
       "    <tr>\n",
       "      <th>2</th>\n",
       "      <td>CatBoostClassifier_raw</td>\n",
       "      <td>0.676685</td>\n",
       "      <td>0.76861</td>\n",
       "    </tr>\n",
       "    <tr>\n",
       "      <th>3</th>\n",
       "      <td>LogisticRegression_raw_balanced</td>\n",
       "      <td>0.619751</td>\n",
       "      <td>0.7588</td>\n",
       "    </tr>\n",
       "    <tr>\n",
       "      <th>4</th>\n",
       "      <td>RandomForestClassifier_raw_balanced</td>\n",
       "      <td>0.588846</td>\n",
       "      <td>0.715226</td>\n",
       "    </tr>\n",
       "    <tr>\n",
       "      <th>5</th>\n",
       "      <td>CatBoostClassifier_raw_balanced</td>\n",
       "      <td>0.541532</td>\n",
       "      <td>0.68676</td>\n",
       "    </tr>\n",
       "  </tbody>\n",
       "</table>\n",
       "</div>"
      ],
      "text/plain": [
       "                                 Model        F1   ROC_AUC\n",
       "0               LogisticRegression_raw  0.578345  0.709911\n",
       "1           RandomForestClassifier_raw  0.589273   0.71594\n",
       "2               CatBoostClassifier_raw  0.676685   0.76861\n",
       "3      LogisticRegression_raw_balanced  0.619751    0.7588\n",
       "4  RandomForestClassifier_raw_balanced  0.588846  0.715226\n",
       "5      CatBoostClassifier_raw_balanced  0.541532   0.68676"
      ]
     },
     "execution_count": 78,
     "metadata": {},
     "output_type": "execute_result"
    }
   ],
   "source": [
    "stats"
   ]
  },
  {
   "cell_type": "markdown",
   "id": "5bf92607",
   "metadata": {},
   "source": [
    "Показатели регрессионной модели увеличились, но незначительно.У случайного леса показатели не изменились, а у кетбуста показатели снизились."
   ]
  },
  {
   "cell_type": "markdown",
   "id": "6fbfaf47",
   "metadata": {},
   "source": [
    "Обучим модели на признаках скорректированных с помощью коэффициента инфляции дисперссии (без `MonthlyCharges` и `TotalTime`):"
   ]
  },
  {
   "cell_type": "code",
   "execution_count": 79,
   "id": "20cd60a2",
   "metadata": {
    "scrolled": true
   },
   "outputs": [
    {
     "name": "stderr",
     "output_type": "stream",
     "text": [
      "100%|████████████████████████████████████████████████████████████████████████████████████| 3/3 [00:39<00:00, 13.01s/it]\n"
     ]
    }
   ],
   "source": [
    "model_instances = []\n",
    "for model in tqdm(model_list):\n",
    "    stat_row, model_instance = train (model, features_train_vif, target_train, SEED, '_vif')\n",
    "    \n",
    "    new_index = len(stats.index)\n",
    "    stats.loc[new_index] = stat_row\n",
    "\n",
    "    model_instances.append(model_instance)"
   ]
  },
  {
   "cell_type": "code",
   "execution_count": 80,
   "id": "b059be04",
   "metadata": {},
   "outputs": [
    {
     "data": {
      "text/html": [
       "<div>\n",
       "<style scoped>\n",
       "    .dataframe tbody tr th:only-of-type {\n",
       "        vertical-align: middle;\n",
       "    }\n",
       "\n",
       "    .dataframe tbody tr th {\n",
       "        vertical-align: top;\n",
       "    }\n",
       "\n",
       "    .dataframe thead th {\n",
       "        text-align: right;\n",
       "    }\n",
       "</style>\n",
       "<table border=\"1\" class=\"dataframe\">\n",
       "  <thead>\n",
       "    <tr style=\"text-align: right;\">\n",
       "      <th></th>\n",
       "      <th>Model</th>\n",
       "      <th>F1</th>\n",
       "      <th>ROC_AUC</th>\n",
       "    </tr>\n",
       "  </thead>\n",
       "  <tbody>\n",
       "    <tr>\n",
       "      <th>0</th>\n",
       "      <td>LogisticRegression_raw</td>\n",
       "      <td>0.578345</td>\n",
       "      <td>0.709911</td>\n",
       "    </tr>\n",
       "    <tr>\n",
       "      <th>1</th>\n",
       "      <td>RandomForestClassifier_raw</td>\n",
       "      <td>0.589273</td>\n",
       "      <td>0.71594</td>\n",
       "    </tr>\n",
       "    <tr>\n",
       "      <th>2</th>\n",
       "      <td>CatBoostClassifier_raw</td>\n",
       "      <td>0.676685</td>\n",
       "      <td>0.76861</td>\n",
       "    </tr>\n",
       "    <tr>\n",
       "      <th>3</th>\n",
       "      <td>LogisticRegression_raw_balanced</td>\n",
       "      <td>0.619751</td>\n",
       "      <td>0.7588</td>\n",
       "    </tr>\n",
       "    <tr>\n",
       "      <th>4</th>\n",
       "      <td>RandomForestClassifier_raw_balanced</td>\n",
       "      <td>0.588846</td>\n",
       "      <td>0.715226</td>\n",
       "    </tr>\n",
       "    <tr>\n",
       "      <th>5</th>\n",
       "      <td>CatBoostClassifier_raw_balanced</td>\n",
       "      <td>0.541532</td>\n",
       "      <td>0.68676</td>\n",
       "    </tr>\n",
       "    <tr>\n",
       "      <th>6</th>\n",
       "      <td>LogisticRegression_vif</td>\n",
       "      <td>0.535979</td>\n",
       "      <td>0.683787</td>\n",
       "    </tr>\n",
       "    <tr>\n",
       "      <th>7</th>\n",
       "      <td>RandomForestClassifier_vif</td>\n",
       "      <td>0.537063</td>\n",
       "      <td>0.684741</td>\n",
       "    </tr>\n",
       "    <tr>\n",
       "      <th>8</th>\n",
       "      <td>CatBoostClassifier_vif</td>\n",
       "      <td>0.568408</td>\n",
       "      <td>0.703851</td>\n",
       "    </tr>\n",
       "  </tbody>\n",
       "</table>\n",
       "</div>"
      ],
      "text/plain": [
       "                                 Model        F1   ROC_AUC\n",
       "0               LogisticRegression_raw  0.578345  0.709911\n",
       "1           RandomForestClassifier_raw  0.589273   0.71594\n",
       "2               CatBoostClassifier_raw  0.676685   0.76861\n",
       "3      LogisticRegression_raw_balanced  0.619751    0.7588\n",
       "4  RandomForestClassifier_raw_balanced  0.588846  0.715226\n",
       "5      CatBoostClassifier_raw_balanced  0.541532   0.68676\n",
       "6               LogisticRegression_vif  0.535979  0.683787\n",
       "7           RandomForestClassifier_vif  0.537063  0.684741\n",
       "8               CatBoostClassifier_vif  0.568408  0.703851"
      ]
     },
     "execution_count": 80,
     "metadata": {},
     "output_type": "execute_result"
    }
   ],
   "source": [
    "stats"
   ]
  },
  {
   "cell_type": "markdown",
   "id": "fe0b34b3",
   "metadata": {},
   "source": [
    "Показатели *F1*-меры и *roc_auc* снизились. Балансировку классов делать не будем."
   ]
  },
  {
   "cell_type": "markdown",
   "id": "2a4afcf4",
   "metadata": {},
   "source": [
    "Обучим модели на признаках с апсемплингом:"
   ]
  },
  {
   "cell_type": "code",
   "execution_count": 81,
   "id": "4fc1a650",
   "metadata": {
    "scrolled": true
   },
   "outputs": [
    {
     "name": "stderr",
     "output_type": "stream",
     "text": [
      "100%|████████████████████████████████████████████████████████████████████████████████████| 3/3 [00:32<00:00, 10.68s/it]\n"
     ]
    }
   ],
   "source": [
    "model_instances = []\n",
    "for model in tqdm(model_list):\n",
    "    stat_row, model_instance = train (model, features_upsampled, target_upsampled, SEED, '_upsampling')\n",
    "    \n",
    "    new_index = len(stats.index)\n",
    "    stats.loc[new_index] = stat_row\n",
    "\n",
    "    model_instances.append(model_instance)"
   ]
  },
  {
   "cell_type": "code",
   "execution_count": 82,
   "id": "abd05c7e",
   "metadata": {},
   "outputs": [
    {
     "data": {
      "text/html": [
       "<div>\n",
       "<style scoped>\n",
       "    .dataframe tbody tr th:only-of-type {\n",
       "        vertical-align: middle;\n",
       "    }\n",
       "\n",
       "    .dataframe tbody tr th {\n",
       "        vertical-align: top;\n",
       "    }\n",
       "\n",
       "    .dataframe thead th {\n",
       "        text-align: right;\n",
       "    }\n",
       "</style>\n",
       "<table border=\"1\" class=\"dataframe\">\n",
       "  <thead>\n",
       "    <tr style=\"text-align: right;\">\n",
       "      <th></th>\n",
       "      <th>Model</th>\n",
       "      <th>F1</th>\n",
       "      <th>ROC_AUC</th>\n",
       "    </tr>\n",
       "  </thead>\n",
       "  <tbody>\n",
       "    <tr>\n",
       "      <th>0</th>\n",
       "      <td>LogisticRegression_raw</td>\n",
       "      <td>0.578345</td>\n",
       "      <td>0.709911</td>\n",
       "    </tr>\n",
       "    <tr>\n",
       "      <th>1</th>\n",
       "      <td>RandomForestClassifier_raw</td>\n",
       "      <td>0.589273</td>\n",
       "      <td>0.71594</td>\n",
       "    </tr>\n",
       "    <tr>\n",
       "      <th>2</th>\n",
       "      <td>CatBoostClassifier_raw</td>\n",
       "      <td>0.676685</td>\n",
       "      <td>0.76861</td>\n",
       "    </tr>\n",
       "    <tr>\n",
       "      <th>3</th>\n",
       "      <td>LogisticRegression_raw_balanced</td>\n",
       "      <td>0.619751</td>\n",
       "      <td>0.7588</td>\n",
       "    </tr>\n",
       "    <tr>\n",
       "      <th>4</th>\n",
       "      <td>RandomForestClassifier_raw_balanced</td>\n",
       "      <td>0.588846</td>\n",
       "      <td>0.715226</td>\n",
       "    </tr>\n",
       "    <tr>\n",
       "      <th>5</th>\n",
       "      <td>CatBoostClassifier_raw_balanced</td>\n",
       "      <td>0.541532</td>\n",
       "      <td>0.68676</td>\n",
       "    </tr>\n",
       "    <tr>\n",
       "      <th>6</th>\n",
       "      <td>LogisticRegression_vif</td>\n",
       "      <td>0.535979</td>\n",
       "      <td>0.683787</td>\n",
       "    </tr>\n",
       "    <tr>\n",
       "      <th>7</th>\n",
       "      <td>RandomForestClassifier_vif</td>\n",
       "      <td>0.537063</td>\n",
       "      <td>0.684741</td>\n",
       "    </tr>\n",
       "    <tr>\n",
       "      <th>8</th>\n",
       "      <td>CatBoostClassifier_vif</td>\n",
       "      <td>0.568408</td>\n",
       "      <td>0.703851</td>\n",
       "    </tr>\n",
       "    <tr>\n",
       "      <th>9</th>\n",
       "      <td>LogisticRegression_upsampling</td>\n",
       "      <td>0.780695</td>\n",
       "      <td>0.75986</td>\n",
       "    </tr>\n",
       "    <tr>\n",
       "      <th>10</th>\n",
       "      <td>RandomForestClassifier_upsampling</td>\n",
       "      <td>0.919377</td>\n",
       "      <td>0.908575</td>\n",
       "    </tr>\n",
       "    <tr>\n",
       "      <th>11</th>\n",
       "      <td>CatBoostClassifier_upsampling</td>\n",
       "      <td>0.875973</td>\n",
       "      <td>0.865791</td>\n",
       "    </tr>\n",
       "  </tbody>\n",
       "</table>\n",
       "</div>"
      ],
      "text/plain": [
       "                                  Model        F1   ROC_AUC\n",
       "0                LogisticRegression_raw  0.578345  0.709911\n",
       "1            RandomForestClassifier_raw  0.589273   0.71594\n",
       "2                CatBoostClassifier_raw  0.676685   0.76861\n",
       "3       LogisticRegression_raw_balanced  0.619751    0.7588\n",
       "4   RandomForestClassifier_raw_balanced  0.588846  0.715226\n",
       "5       CatBoostClassifier_raw_balanced  0.541532   0.68676\n",
       "6                LogisticRegression_vif  0.535979  0.683787\n",
       "7            RandomForestClassifier_vif  0.537063  0.684741\n",
       "8                CatBoostClassifier_vif  0.568408  0.703851\n",
       "9         LogisticRegression_upsampling  0.780695   0.75986\n",
       "10    RandomForestClassifier_upsampling  0.919377  0.908575\n",
       "11        CatBoostClassifier_upsampling  0.875973  0.865791"
      ]
     },
     "execution_count": 82,
     "metadata": {},
     "output_type": "execute_result"
    }
   ],
   "source": [
    "stats"
   ]
  },
  {
   "cell_type": "markdown",
   "id": "9266203c",
   "metadata": {},
   "source": [
    "Качество моделей с апсемплингом существенно вырасло. Лучшей моделью является `RandomForestClassifier`. Модель случайного леса с апсемплингом увеличила *F1*-меру с 0.59 до 0.92, а *roc_auc* c 0.72 до 0.90 (показатели `CatBoostClassifier` со всеми признаками). Запишем лучшую модель и сравним ее на тестировании с моделью кетбуст на полных данных:"
   ]
  },
  {
   "cell_type": "code",
   "execution_count": 85,
   "id": "e373bfcb",
   "metadata": {},
   "outputs": [],
   "source": [
    "best_model_upsampling = model_instances[1]"
   ]
  },
  {
   "cell_type": "markdown",
   "id": "1c95c26d",
   "metadata": {},
   "source": [
    "## Тестирование"
   ]
  },
  {
   "cell_type": "markdown",
   "id": "7463f4ee",
   "metadata": {},
   "source": [
    "Напишем функцию-тест:"
   ]
  },
  {
   "cell_type": "code",
   "execution_count": 87,
   "id": "15b2f4c4",
   "metadata": {},
   "outputs": [],
   "source": [
    "def testing_model(features_test, target_test, model):\n",
    "    predictions_test = model.predict(features_test)\n",
    "    probabilities_test = model.predict_proba(features_test)[:,1]\n",
    "    fpr, tpr, threshold = roc_curve(target_test, probabilities_test)\n",
    "    \n",
    "    f1 = f1_score(target_test, predictions_test)\n",
    "    roc_auc = roc_auc_score(target_test, probabilities_test)\n",
    "    \n",
    "    print('Класс модели: ', type(model).__name__)\n",
    "    print('F1-мера: ', f1)\n",
    "    print('roc-auc: ', roc_auc)\n",
    "    \n",
    "    fpr, tpr, thresholds = roc_curve(target_test, probabilities_test, pos_label=1)\n",
    "    plt.plot(fpr, tpr, label=type(model).__name__)\n",
    "    plt.xlabel('Вероятность ошибки 1-рода')\n",
    "    plt.ylabel('Recall')\n",
    "    plt.title('ROC-кривая модели класса ' + type(model).__name__)\n",
    "    plt.plot([0, 1], [0, 1])\n",
    "    plt.xlim([0.0, 1.0])\n",
    "    plt.ylim([0.0, 1.05])\n",
    "    plt.legend();\n",
    "    \n",
    "    cmatrix = confusion_matrix(target_test, predictions_test)\n",
    "    plt.figure(figsize=(8, 8))\n",
    "    sns.heatmap(cmatrix, \n",
    "                annot=True,  \n",
    "                cmap='Blues', \n",
    "                fmt='d').set(title='Матрица ошибок', xlabel='Предсказания', ylabel='Правильные ответы')\n",
    "    plt.show();"
   ]
  },
  {
   "cell_type": "markdown",
   "id": "d662e16f",
   "metadata": {},
   "source": [
    "Протестируем лучшую модель на полных данных (*raw*):"
   ]
  },
  {
   "cell_type": "code",
   "execution_count": 88,
   "id": "74ea7ccd",
   "metadata": {
    "scrolled": false
   },
   "outputs": [
    {
     "name": "stdout",
     "output_type": "stream",
     "text": [
      "Класс модели:  CatBoostClassifier\n",
      "F1-мера:  0.7158145065398336\n",
      "roc-auc:  0.9179635226949805\n"
     ]
    },
    {
     "data": {
      "image/png": "[encoded data removed]",
      "text/plain": [
       "<Figure size 1440x576 with 1 Axes>"
      ]
     },
     "metadata": {},
     "output_type": "display_data"
    },
    {
     "data": {
      "image/png": "[encoded data removed]",
      "text/plain": [
       "<Figure size 576x576 with 2 Axes>"
      ]
     },
     "metadata": {},
     "output_type": "display_data"
    }
   ],
   "source": [
    "testing_model(features_test, target_test, best_model_raw)"
   ]
  },
  {
   "cell_type": "markdown",
   "id": "f2224270",
   "metadata": {},
   "source": [
    "Отличные показатели."
   ]
  },
  {
   "cell_type": "markdown",
   "id": "5d7a2f7b",
   "metadata": {},
   "source": [
    "Лучшая модель на данных с апсемплингом (случайный лес):"
   ]
  },
  {
   "cell_type": "code",
   "execution_count": 89,
   "id": "5dbaf5e5",
   "metadata": {},
   "outputs": [
    {
     "name": "stdout",
     "output_type": "stream",
     "text": [
      "Класс модели:  RandomForestClassifier\n",
      "F1-мера:  0.6248366013071895\n",
      "roc-auc:  0.8464103955152549\n"
     ]
    },
    {
     "data": {
      "image/png": "[encoded data removed]",
      "text/plain": [
       "<Figure size 1440x576 with 1 Axes>"
      ]
     },
     "metadata": {},
     "output_type": "display_data"
    },
    {
     "data": {
      "image/png": "[encoded data removed]",
      "text/plain": [
       "<Figure size 576x576 with 2 Axes>"
      ]
     },
     "metadata": {},
     "output_type": "display_data"
    }
   ],
   "source": [
    "testing_model(features_test, target_test, best_model_upsampling)"
   ]
  },
  {
   "cell_type": "markdown",
   "id": "5ca3d783",
   "metadata": {},
   "source": [
    "Показатели на тесте оставляют желать лучшего. Лучшей моделью оказалась модель класса `CatBoostClassifier` на полных данных. \n",
    "Показатели: \n",
    "- *F1*-мера 0.72;\n",
    "- *roc-auc* 0.92."
   ]
  },
  {
   "cell_type": "code",
   "execution_count": 90,
   "id": "165ec269",
   "metadata": {},
   "outputs": [],
   "source": [
    "best_model = best_model_raw"
   ]
  },
  {
   "cell_type": "markdown",
   "id": "e7bca367",
   "metadata": {},
   "source": [
    "## Анализ важности признаков модели"
   ]
  },
  {
   "cell_type": "code",
   "execution_count": 95,
   "id": "51ed9134",
   "metadata": {},
   "outputs": [],
   "source": [
    "train_dataset = Pool(features_train, target_train)"
   ]
  },
  {
   "cell_type": "code",
   "execution_count": 99,
   "id": "aafdf362",
   "metadata": {},
   "outputs": [],
   "source": [
    "feature_importance = best_model.get_feature_importance(train_dataset, prettified = True)"
   ]
  },
  {
   "cell_type": "code",
   "execution_count": 108,
   "id": "705965d5",
   "metadata": {},
   "outputs": [
    {
     "data": {
      "text/html": [
       "<div>\n",
       "<style scoped>\n",
       "    .dataframe tbody tr th:only-of-type {\n",
       "        vertical-align: middle;\n",
       "    }\n",
       "\n",
       "    .dataframe tbody tr th {\n",
       "        vertical-align: top;\n",
       "    }\n",
       "\n",
       "    .dataframe thead th {\n",
       "        text-align: right;\n",
       "    }\n",
       "</style>\n",
       "<table border=\"1\" class=\"dataframe\">\n",
       "  <thead>\n",
       "    <tr style=\"text-align: right;\">\n",
       "      <th></th>\n",
       "      <th>Feature Id</th>\n",
       "      <th>Importances</th>\n",
       "    </tr>\n",
       "  </thead>\n",
       "  <tbody>\n",
       "    <tr>\n",
       "      <th>0</th>\n",
       "      <td>TotalTime</td>\n",
       "      <td>41.731800</td>\n",
       "    </tr>\n",
       "    <tr>\n",
       "      <th>1</th>\n",
       "      <td>MonthlyCharges</td>\n",
       "      <td>12.280037</td>\n",
       "    </tr>\n",
       "    <tr>\n",
       "      <th>2</th>\n",
       "      <td>TotalCharges</td>\n",
       "      <td>10.517825</td>\n",
       "    </tr>\n",
       "    <tr>\n",
       "      <th>3</th>\n",
       "      <td>Type_Two year</td>\n",
       "      <td>5.428539</td>\n",
       "    </tr>\n",
       "    <tr>\n",
       "      <th>4</th>\n",
       "      <td>Type_One year</td>\n",
       "      <td>3.252445</td>\n",
       "    </tr>\n",
       "    <tr>\n",
       "      <th>5</th>\n",
       "      <td>is_male</td>\n",
       "      <td>2.566081</td>\n",
       "    </tr>\n",
       "    <tr>\n",
       "      <th>6</th>\n",
       "      <td>PaymentMethod_Electronic check</td>\n",
       "      <td>2.561356</td>\n",
       "    </tr>\n",
       "    <tr>\n",
       "      <th>7</th>\n",
       "      <td>is_DSL_service</td>\n",
       "      <td>2.143827</td>\n",
       "    </tr>\n",
       "    <tr>\n",
       "      <th>8</th>\n",
       "      <td>OnlineSecurity</td>\n",
       "      <td>1.986265</td>\n",
       "    </tr>\n",
       "    <tr>\n",
       "      <th>9</th>\n",
       "      <td>TechSupport</td>\n",
       "      <td>1.756698</td>\n",
       "    </tr>\n",
       "    <tr>\n",
       "      <th>10</th>\n",
       "      <td>PaperlessBilling</td>\n",
       "      <td>1.750419</td>\n",
       "    </tr>\n",
       "    <tr>\n",
       "      <th>11</th>\n",
       "      <td>Dependents</td>\n",
       "      <td>1.687438</td>\n",
       "    </tr>\n",
       "    <tr>\n",
       "      <th>12</th>\n",
       "      <td>PaymentMethod_Mailed check</td>\n",
       "      <td>1.506158</td>\n",
       "    </tr>\n",
       "    <tr>\n",
       "      <th>13</th>\n",
       "      <td>MultipleLines</td>\n",
       "      <td>1.402750</td>\n",
       "    </tr>\n",
       "    <tr>\n",
       "      <th>14</th>\n",
       "      <td>PaymentMethod_Credit card (automatic)</td>\n",
       "      <td>1.362795</td>\n",
       "    </tr>\n",
       "    <tr>\n",
       "      <th>15</th>\n",
       "      <td>StreamingMovies</td>\n",
       "      <td>1.342401</td>\n",
       "    </tr>\n",
       "    <tr>\n",
       "      <th>16</th>\n",
       "      <td>OnlineBackup</td>\n",
       "      <td>1.327655</td>\n",
       "    </tr>\n",
       "    <tr>\n",
       "      <th>17</th>\n",
       "      <td>SeniorCitizen</td>\n",
       "      <td>1.300855</td>\n",
       "    </tr>\n",
       "    <tr>\n",
       "      <th>18</th>\n",
       "      <td>Partner</td>\n",
       "      <td>0.993195</td>\n",
       "    </tr>\n",
       "    <tr>\n",
       "      <th>19</th>\n",
       "      <td>StreamingTV</td>\n",
       "      <td>0.935907</td>\n",
       "    </tr>\n",
       "    <tr>\n",
       "      <th>20</th>\n",
       "      <td>MonthlyChargesGroup_1</td>\n",
       "      <td>0.825208</td>\n",
       "    </tr>\n",
       "    <tr>\n",
       "      <th>21</th>\n",
       "      <td>DeviceProtection</td>\n",
       "      <td>0.685147</td>\n",
       "    </tr>\n",
       "    <tr>\n",
       "      <th>22</th>\n",
       "      <td>MonthlyChargesGroup_2</td>\n",
       "      <td>0.655199</td>\n",
       "    </tr>\n",
       "  </tbody>\n",
       "</table>\n",
       "</div>"
      ],
      "text/plain": [
       "                               Feature Id  Importances\n",
       "0                               TotalTime    41.731800\n",
       "1                          MonthlyCharges    12.280037\n",
       "2                            TotalCharges    10.517825\n",
       "3                           Type_Two year     5.428539\n",
       "4                           Type_One year     3.252445\n",
       "5                                 is_male     2.566081\n",
       "6          PaymentMethod_Electronic check     2.561356\n",
       "7                          is_DSL_service     2.143827\n",
       "8                          OnlineSecurity     1.986265\n",
       "9                             TechSupport     1.756698\n",
       "10                       PaperlessBilling     1.750419\n",
       "11                             Dependents     1.687438\n",
       "12             PaymentMethod_Mailed check     1.506158\n",
       "13                          MultipleLines     1.402750\n",
       "14  PaymentMethod_Credit card (automatic)     1.362795\n",
       "15                        StreamingMovies     1.342401\n",
       "16                           OnlineBackup     1.327655\n",
       "17                          SeniorCitizen     1.300855\n",
       "18                                Partner     0.993195\n",
       "19                            StreamingTV     0.935907\n",
       "20                  MonthlyChargesGroup_1     0.825208\n",
       "21                       DeviceProtection     0.685147\n",
       "22                  MonthlyChargesGroup_2     0.655199"
      ]
     },
     "execution_count": 108,
     "metadata": {},
     "output_type": "execute_result"
    }
   ],
   "source": [
    "feature_importance"
   ]
  },
  {
   "cell_type": "code",
   "execution_count": 107,
   "id": "a4252151",
   "metadata": {},
   "outputs": [
    {
     "data": {
      "image/png": "[encoded data removed]",
      "text/plain": [
       "<Figure size 1440x576 with 1 Axes>"
      ]
     },
     "metadata": {},
     "output_type": "display_data"
    }
   ],
   "source": [
    "sns.barplot(y=feature_importance['Feature Id'], x=feature_importance['Importances']);"
   ]
  },
  {
   "cell_type": "markdown",
   "id": "0c368abd",
   "metadata": {},
   "source": [
    "Достаточно логично, что на лояльность клиентов виляет время использования услуг. Как правило, чем дольше ты пользуешься услугами компании, тем меньше вероятность что ты от туда уйдешь. Второй и третий признак - месячные траты, тоже достаточно логично, учитывая исследовательский анализ данных проведенных ранее. Затем идут признаки, отвечающие за срок договора, гендер и т.д."
   ]
  },
  {
   "cell_type": "markdown",
   "id": "a58d0f10",
   "metadata": {},
   "source": [
    "## Общий вывод"
   ]
  },
  {
   "cell_type": "markdown",
   "id": "b329eed2",
   "metadata": {},
   "source": [
    "При выполнении работы были загружены и рассмотрены таблицы с данными: \n",
    "\n",
    "- `df_contract`;  \n",
    "- `df_internet`;\n",
    "- `df_personal`;\n",
    "- `df_phone`.\n",
    "\n",
    "**I. Исследовательская часть**\n",
    "\n",
    "Всего в выборке представлены договоры с 7043 клиентами, из которых пользователей интернета - 5517, пользователей телефона - 6361. Явные пропуски и дубликаты не найдены.\n",
    "\n",
    "В процессе были решены проблемы для предобработки данных:\n",
    "\n",
    "1. `BeginDate` – поле приведено к типу *datetime*;\n",
    "\n",
    "2. `EndDate` – для значений \"No\" установлена \"заглушка\", соответствующая дате актуальности датасета - *2020-02-01*), после чего поле было приведено к формату *datetime*;\n",
    "\n",
    "3. `MonthlyCharges` - поле приведено к целочисленному типу для экономии памяти (два знака после запятой - излишняя точность в значениях);\n",
    "\n",
    "4. `TotalCharges` - неявные пропуски (пустые значения) приведены в соответствие с полем суммарных трат, так как пропуски маркеруют клиентов, начавших пользоваться услагми компании в феврале 2020 года.\n",
    "\n",
    "После чего все датафреймы были объединены.\n",
    "\n",
    "Из статистических характеристик объедененного датафрейма можно выделить интересные особенности:\n",
    "\n",
    "- практически две трети пользователей предпочитают безналичный расчет;\n",
    "\n",
    "- среднее значение месячных трат практически совпадает с медианным значением, то есть имеет распределение с небольшим отрицательным смещением;\n",
    "\n",
    "- **распределение значений суммарных трат наоборот, сильное положительное смещение - медиана практически на 40% меньше среднего. Возможно это связано с наличием нулей - неявных пропусков. Это нужно выяснить далее**;\n",
    "\n",
    "- относительно демографии: 16% пенсионеров, 48% имеют супруга(у), у 29% клиентов имеются иждевенцы. Баланс классов гендера соблюдается;\n",
    "\n",
    "- 34% пользователей продолжают использовать интернет соединение через через телефонную линию, 42% пользователей имеют возможность использовать вторую линию во время звонка; \n",
    "\n",
    "- По услугам данные приведены в таблице:\n",
    "\n",
    "|Услуга| Доля пользователей услуги |  \n",
    "|------|---------------------------|\n",
    "|антивирус (DeviceProtection)| 34%|\n",
    "|блокировка небезопасных сайтов (OnlineSecurity)| 29%|\n",
    "|выделенная линия технической поддержки (TechSupport)| 29%|\n",
    "|облачное хранилище файлов для резервного копирования данных (OnlineBackup)|34%|\n",
    "|cтриминговое телевидение (StreamingTV)|38%|\n",
    "|каталог фильмов (StreamingMovies)|39%|\n",
    "\n",
    "По распределению значений месячных трат выделяются три основные группы клиентов:\n",
    "\n",
    "- с месячными тратами со значениями 20-30;\n",
    "- с месячными тратами со значениями 30-70;\n",
    "- с месячными тратами со значениями 70-120.\n",
    "\n",
    "Был выделен целевой признак, имеет место дисбаланс классов (74/26). На этапе подготовки данных для модели нужно решить эту проблему методом семплирования. Также можно использовать метрику устойчивую к дисбалансу классов (например *AUC-ROC*, *F1*);\n",
    "\n",
    "Данные были поделены на три группы для исследования их различий. Оказалось, что клиенты третей группы больше пользуются услугами. Первая группа практически вообще не пользуется дополнительными услугами (доля не превшает 10%). Данный признак был использован при моделировании. Также был сгенерирован дополнительный признак - длительность использования услуг компании.\n",
    "\n",
    "Примечательно, что:\n",
    "\n",
    "- доля пользователей, использующих безналичный расчет растет от 38% в первой группе, до 62% во второй группе, и до 76% в третьей группе;\n",
    "\n",
    "- среди третьей группы больше пенсионеров (7% первая группа, 16% - вторая группа, 25% - третья группа);\n",
    "\n",
    "- в третей группе больше клиентов, состоящих в браке (43% первая группа, 45% - вторая группа, 57% - третья группа);\n",
    "\n",
    "- иждевенцев, наоборот, больше в первой группе - 36%, во второй группе 28%, в третьей 26%;\n",
    "\n",
    "- среди третьей группы только 7% пользователей продолжают использовать интернет соединение через через телефонную линию, во второй группе это значение вырастает до 59%, в третьей 38%;\n",
    "\n",
    "- отток клиентов самый большой в третьей группе - 34%, во второй группе 29%, в первой 16%.\n",
    "\n",
    "Было исследовано распределение даты регистрации клиентов во времени: наблюдается пик в начале 2014 года, что связано с началом работы компании. С начала 2015 по конец 2018 года - величина вновь привлеченных клиентов стабильна. Далее с начала 2019 по начало 2020 года снова наблюдаем бурный рост количества новых клиентов.\n",
    "\n",
    "На протяжении 4 месяцев подряд происходил равномерный отток клиентов (октябрь 2019 - январь 2020).\n",
    "\n",
    "Среди оттекших клиентов есть представители каждой из выделенной ранее групп. Примечательно, что оттекшие клиенты пользовались в основном дорогими тарифами.\n",
    "\n",
    "Средняя длительность пользования услугами у оттекших клиентов практически в два раза меньше, чем у тех, которые остались. \n",
    "\n",
    "\n",
    "**II. Модельная часть**\n",
    "\n",
    "В качестве подготовки к моделированию из исходных данных было подготовлено три набора данных для моделей:\n",
    "\n",
    "1. \"Сырой\" (*raw*) вариант с полным количеством признаков.\n",
    "\n",
    "2. Признаки, отобранные на основании коэффициента инфляции диспресии (*VIF - variance inflation factor*). На этом этапе было отброшено два признака с достаточно большими коэффициентами инфляции дисперсии - `MonthlyCharges` и `TotalTime`.\n",
    "\n",
    "3. Данные с апсемплингом для борьбы с дисбалансом классов (*на \"сырых\" данных применялась встроенная балансировка классов для моделей, однако, она увеличила метрики только регрессионной модели*).\n",
    "\n",
    "Метрики всех построенных моделей представлены в таблице:\n",
    "\n",
    "|Класс модели; примечание |\t*F1* |\t*roc-auc*|\n",
    "|--------------------|-------|-----------|\n",
    "|LogisticRegression; \"сырые\" данные|0.578|0.710|\n",
    "|RandomForestClassifier; \"сырые\" данные|0.589|0.72|\n",
    "|**CatBoostClassifier; \"сырые\" данные**|**0.68**|**0.77**|\n",
    "|LogisticRegression; \"сырые\" данные с балансировкой|0.62|0.76|\n",
    "|RandomForestClassifier; \"сырые\" данные с балансировкой|0.59|0.71|\n",
    "|CatBoostClassifier; \"сырые\" данные с балансировкой|0.54|0.69|\n",
    "|LogisticRegression; данные, отобранные на основе *VIF*|0.54|0.68|\n",
    "|RandomForestClassifier; данные, отобранные на основе *VIF*|0.54|0.68|\n",
    "|CatBoostClassifier; данные, отобранные на основе *VIF*|0.57|0.70|\n",
    "|LogisticRegression; данные с апсемплингом|0.78|0.76|\n",
    "|**RandomForestClassifier; данные с апсемплингом**|**0.92**|**0.91**|\n",
    "|CatBoostClassifier; данные с апсемплингом|0.88|0.87|\n",
    "\n",
    "Как уже упоминалось выше, балансировка классов не привела к существенному увеличению метрик, как и с данными, отобранными на основе *VIF* - поэтому на этих этапах лучшая модель не отбиралась. \n",
    "\n",
    "Качество моделей с апсемплингом существенно вырасло. Лучшим классом модели являлась `RandomForestClassifier`. Модель случайного леса с апсемплингом увеличила *F1*-меру с 0.59 до 0.92, а *roc_auc* c 0.72 до 0.90 (показатели `CatBoostClassifier` со всеми признаками). Запишем лучшую модель с апсемплингом сравнили на отложенной выборке с моделью кетбуст на полных данных (*raw*).\n",
    "\n",
    "На отложенной выборке выиграла модель класса `CatBoostClassifier` на полных данных. \n",
    "\n",
    "ЕЕ показатели: \n",
    "\n",
    "- *F1*-мера 0.72 (против 0.62 у `RandomForestClassifier`);\n",
    "- *roc-auc* 0.92 (против 0.85 у `RandomForestClassifier`).\n",
    "\n",
    "**III. Анализ важности признаков модели**\n",
    "\n",
    "Топ-10 признаков, оказывающих на модель наибольшее влияние:\n",
    "\n",
    "|Имя признака|Расшифровка|Важность для модели, %|\n",
    "|------------|-----------|----------------------|\n",
    "|TotalTime|\tДлительность использования услуг компании| 41.73\n",
    "|MonthlyCharges|Ежемесячные траты|\t12.28\n",
    "|TotalCharges|Суммарные траты|\t10.52\n",
    "|Type_Two year|Договор заключен на два года (бинарная переменная)|\t5.43\n",
    "|Type_One year|Договор заключен на год (бинарная переменная)|\t3.25\n",
    "|is_male|Клиент мужчина (бинарная переменная)|\t2.57\n",
    "|PaymentMethod_Electronic check|Способ оплаты - электронный чек (бинарная переменная)|\t2.56\n",
    "|is_DSL_service|Интернет соединение через телефонную линию (бинарная переменная)|\t2.14\n",
    "|OnlineSecurity|Подключена услуга блокировки небезопасных сайтов (бинарная переменная)|\t1.99\n",
    "|TechSupport|Подключена услуга технической поддержки (бинарная переменная)|\t1.76\n",
    "\n",
    "Достаточно логично, что на лояльность клиентов виляет время использования услуг. Как правило, чем дольше ты пользуешься услугами компании, тем меньше вероятность что ты от туда уйдешь. Второй и третий признак - месячные траты, тоже достаточно логично, учитывая исследовательский анализ данных проведенных ранее. Затем идут признаки, отвечающие за срок договора, гендер и т.д."
   ]
  }
 ],
 "metadata": {
  "kernelspec": {
   "display_name": "Python 3 (ipykernel)",
   "language": "python",
   "name": "python3"
  },
  "language_info": {
   "codemirror_mode": {
    "name": "ipython",
    "version": 3
   },
   "file_extension": ".py",
   "mimetype": "text/x-python",
   "name": "python",
   "nbconvert_exporter": "python",
   "pygments_lexer": "ipython3",
   "version": "3.9.12"
  }
 },
 "nbformat": 4,
 "nbformat_minor": 5
}
